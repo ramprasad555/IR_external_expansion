{
 "cells": [
  {
   "cell_type": "code",
   "execution_count": 2,
   "id": "artificial-covering",
   "metadata": {},
   "outputs": [
    {
     "name": "stdout",
     "output_type": "stream",
     "text": [
      "Wed May  1 20:47:19 2024       \n",
      "+-----------------------------------------------------------------------------+\n",
      "| NVIDIA-SMI 525.147.05   Driver Version: 525.147.05   CUDA Version: 12.0     |\n",
      "|-------------------------------+----------------------+----------------------+\n",
      "| GPU  Name        Persistence-M| Bus-Id        Disp.A | Volatile Uncorr. ECC |\n",
      "| Fan  Temp  Perf  Pwr:Usage/Cap|         Memory-Usage | GPU-Util  Compute M. |\n",
      "|                               |                      |               MIG M. |\n",
      "|===============================+======================+======================|\n",
      "|   0  Tesla T4            On   | 00000000:1A:00.0 Off |                    0 |\n",
      "| N/A   56C    P0    37W /  70W |   9309MiB / 15360MiB |      0%      Default |\n",
      "|                               |                      |                  N/A |\n",
      "+-------------------------------+----------------------+----------------------+\n",
      "|   1  Tesla T4            On   | 00000000:1B:00.0 Off |                    0 |\n",
      "| N/A   34C    P8     9W /  70W |      4MiB / 15360MiB |      0%      Default |\n",
      "|                               |                      |                  N/A |\n",
      "+-------------------------------+----------------------+----------------------+\n",
      "|   2  Tesla T4            On   | 00000000:1C:00.0 Off |                    0 |\n",
      "| N/A   58C    P0    30W /  70W |    140MiB / 15360MiB |      0%      Default |\n",
      "|                               |                      |                  N/A |\n",
      "+-------------------------------+----------------------+----------------------+\n",
      "|   3  Tesla T4            On   | 00000000:1D:00.0 Off |                    0 |\n",
      "| N/A   55C    P0    28W /  70W |   1816MiB / 15360MiB |      0%      Default |\n",
      "|                               |                      |                  N/A |\n",
      "+-------------------------------+----------------------+----------------------+\n",
      "|   4  Tesla T4            On   | 00000000:1E:00.0 Off |                    0 |\n",
      "| N/A   56C    P0    29W /  70W |    970MiB / 15360MiB |      0%      Default |\n",
      "|                               |                      |                  N/A |\n",
      "+-------------------------------+----------------------+----------------------+\n",
      "|   5  Tesla T4            On   | 00000000:3D:00.0 Off |                    0 |\n",
      "| N/A   48C    P0    27W /  70W |   1322MiB / 15360MiB |      0%      Default |\n",
      "|                               |                      |                  N/A |\n",
      "+-------------------------------+----------------------+----------------------+\n",
      "|   6  Tesla T4            On   | 00000000:3E:00.0 Off |                    0 |\n",
      "| N/A   40C    P8    15W /  70W |      4MiB / 15360MiB |      0%      Default |\n",
      "|                               |                      |                  N/A |\n",
      "+-------------------------------+----------------------+----------------------+\n",
      "|   7  Tesla T4            On   | 00000000:3F:00.0 Off |                    0 |\n",
      "| N/A   52C    P0    29W /  70W |   2102MiB / 15360MiB |      0%      Default |\n",
      "|                               |                      |                  N/A |\n",
      "+-------------------------------+----------------------+----------------------+\n",
      "|   8  Tesla T4            On   | 00000000:40:00.0 Off |                    0 |\n",
      "| N/A   53C    P0    29W /  70W |   1652MiB / 15360MiB |      0%      Default |\n",
      "|                               |                      |                  N/A |\n",
      "+-------------------------------+----------------------+----------------------+\n",
      "|   9  Tesla T4            On   | 00000000:41:00.0 Off |                    0 |\n",
      "| N/A   39C    P8    15W /  70W |      4MiB / 15360MiB |      0%      Default |\n",
      "|                               |                      |                  N/A |\n",
      "+-------------------------------+----------------------+----------------------+\n",
      "                                                                               \n",
      "+-----------------------------------------------------------------------------+\n",
      "| Processes:                                                                  |\n",
      "|  GPU   GI   CI        PID   Type   Process name                  GPU Memory |\n",
      "|        ID   ID                                                   Usage      |\n",
      "|=============================================================================|\n",
      "|    0   N/A  N/A     96150      C   python                            560MiB |\n",
      "|    0   N/A  N/A    313167      C   python                            558MiB |\n",
      "|    0   N/A  N/A    314707      C   python                            558MiB |\n",
      "|    0   N/A  N/A    496364      C   ...conda3/envs/ir/bin/python     2718MiB |\n",
      "|    0   N/A  N/A    530209      C   python3                          1098MiB |\n",
      "|    0   N/A  N/A    558083      C   python3                          3804MiB |\n",
      "|    3   N/A  N/A    530209      C   python3                          1812MiB |\n",
      "|    4   N/A  N/A    530209      C   python3                           966MiB |\n",
      "|    5   N/A  N/A    313167      C   python                           1318MiB |\n",
      "|    7   N/A  N/A     96150      C   python                           2098MiB |\n",
      "|    8   N/A  N/A    314707      C   python                           1648MiB |\n",
      "+-----------------------------------------------------------------------------+\n"
     ]
    }
   ],
   "source": [
    "!nvidia-smi"
   ]
  },
  {
   "cell_type": "code",
   "execution_count": 4,
   "id": "plastic-symbol",
   "metadata": {},
   "outputs": [],
   "source": [
    "import faiss\n",
    "# assert faiss.get_num_gpus() > 0"
   ]
  },
  {
   "cell_type": "code",
   "execution_count": 5,
   "id": "sustained-austria",
   "metadata": {},
   "outputs": [
    {
     "name": "stderr",
     "output_type": "stream",
     "text": [
      "/home/stu4/s6/rk1668/miniconda3/envs/ir/lib/python3.11/site-packages/tqdm/auto.py:21: TqdmWarning: IProgress not found. Please update jupyter and ipywidgets. See https://ipywidgets.readthedocs.io/en/stable/user_install.html\n",
      "  from .autonotebook import tqdm as notebook_tqdm\n",
      "PyTerrier 0.10.0 has loaded Terrier 5.8 (built by craigm on 2023-11-01 18:05) and terrier-helper 0.0.8\n",
      "\n",
      "No etc/terrier.properties, using terrier.default.properties for bootstrap configuration.\n"
     ]
    }
   ],
   "source": [
    "import pyterrier as pt\n",
    "pt.init()"
   ]
  },
  {
   "cell_type": "markdown",
   "id": "satellite-usage",
   "metadata": {},
   "source": [
    "# Indexing for the Target Corpus"
   ]
  },
  {
   "cell_type": "code",
   "execution_count": 7,
   "id": "reflected-costume",
   "metadata": {},
   "outputs": [
    {
     "name": "stderr",
     "output_type": "stream",
     "text": []
    },
    {
     "name": "stdout",
     "output_type": "stream",
     "text": [
      "[May 01, 20:49:19] [0] \t\t #> Local args.bsize = 128\n",
      "[May 01, 20:49:19] [0] \t\t #> args.index_root = ./nfs/indices/BEIR/nfcorpus\n",
      "[May 01, 20:49:19] [0] \t\t #> self.possible_subset_sizes = [466033]\n"
     ]
    },
    {
     "name": "stderr",
     "output_type": "stream",
     "text": [
      "Some weights of ColBERT were not initialized from the model checkpoint at bert-base-uncased and are newly initialized: ['linear.weight']\n",
      "You should probably TRAIN this model on a down-stream task to be able to use it for predictions and inference.\n"
     ]
    },
    {
     "name": "stdout",
     "output_type": "stream",
     "text": [
      "[May 01, 20:49:23] #> Loading model checkpoint.\n",
      "[May 01, 20:49:23] #> Loading checkpoint http://www.dcs.gla.ac.uk/~craigm/ecir2021-tutorial/colbert_model_checkpoint.zip\n"
     ]
    },
    {
     "name": "stderr",
     "output_type": "stream",
     "text": [
      "/home/stu4/s6/rk1668/miniconda3/envs/ir/lib/python3.11/site-packages/torch/hub.py:682: UserWarning: Falling back to the old format < 1.6. This support will be deprecated in favor of default zipfile format introduced in 1.6. Please redo torch.save() to save it in the new zipfile format.\n",
      "  warnings.warn('Falling back to the old format < 1.6. This support will be '\n"
     ]
    },
    {
     "name": "stdout",
     "output_type": "stream",
     "text": [
      "[May 01, 20:49:49] #> checkpoint['epoch'] = 0\n",
      "[May 01, 20:49:49] #> checkpoint['batch'] = 44500\n",
      "\n",
      "\n",
      "\n",
      "\n",
      "[May 01, 20:49:49] #> Creating directory ./nfs/indices/BEIR/nfcorpus \n",
      "\n",
      "\n",
      "\n",
      "\n",
      "[May 01, 20:49:49] #> Creating directory ./nfs/indices/BEIR/nfcorpus/nfcorpus_colbertIndex \n",
      "\n",
      "\n"
     ]
    },
    {
     "name": "stderr",
     "output_type": "stream",
     "text": []
    },
    {
     "name": "stdout",
     "output_type": "stream",
     "text": [
      "calling sliding on df of 100 rows\n",
      "calling sliding on df of 100 rows\n",
      "calling sliding on df of 100 rows\n",
      "calling sliding on df of 100 rows\n",
      "calling sliding on df of 100 rows\n",
      "calling sliding on df of 100 rows\n",
      "calling sliding on df of 100 rows\n",
      "calling sliding on df of 100 rows\n",
      "calling sliding on df of 100 rows\n",
      "calling sliding on df of 100 rows\n",
      "calling sliding on df of 100 rows\n",
      "calling sliding on df of 100 rows\n",
      "calling sliding on df of 100 rows\n"
     ]
    },
    {
     "name": "stderr",
     "output_type": "stream",
     "text": []
    },
    {
     "name": "stdout",
     "output_type": "stream",
     "text": [
      "calling sliding on df of 100 rows\n",
      "calling sliding on df of 100 rows\n",
      "calling sliding on df of 100 rows\n",
      "calling sliding on df of 100 rows\n"
     ]
    },
    {
     "name": "stderr",
     "output_type": "stream",
     "text": []
    },
    {
     "name": "stdout",
     "output_type": "stream",
     "text": [
      "calling sliding on df of 100 rows\n",
      "calling sliding on df of 100 rows\n",
      "calling sliding on df of 100 rows\n",
      "calling sliding on df of 100 rows\n",
      "calling sliding on df of 100 rows\n",
      "calling sliding on df of 100 rows\n",
      "calling sliding on df of 100 rows\n",
      "calling sliding on df of 100 rows\n",
      "calling sliding on df of 100 rows\n",
      "calling sliding on df of 100 rows\n",
      "calling sliding on df of 100 rows\n",
      "calling sliding on df of 100 rows\n"
     ]
    },
    {
     "name": "stderr",
     "output_type": "stream",
     "text": []
    },
    {
     "name": "stdout",
     "output_type": "stream",
     "text": [
      "calling sliding on df of 100 rows\n",
      "calling sliding on df of 100 rows\n",
      "calling sliding on df of 100 rows\n",
      "calling sliding on df of 100 rows\n",
      "calling sliding on df of 100 rows\n"
     ]
    },
    {
     "name": "stderr",
     "output_type": "stream",
     "text": [
      "beir/nfcorpus documents: 100%|██████████| 3633/3633 [00:30<00:00, 120.94it/s]\n"
     ]
    },
    {
     "name": "stdout",
     "output_type": "stream",
     "text": [
      "calling sliding on df of 100 rows\n",
      "calling sliding on df of 100 rows\n",
      "calling sliding on df of 33 rows\n",
      "[May 01, 20:55:13] [0] \t\t #> Completed batch #0 (starting at passage #0) \t\tPassages/min: 1.1k (overall),  1.1k (this encoding),  2969.8M (this saving)\n",
      "[May 01, 20:55:13] [0] \t\t [NOTE] Done with local share.\n",
      "[May 01, 20:55:13] [0] \t\t #> Joining saver thread.\n",
      "[May 01, 20:55:17] [0] \t\t #> Saved batch #0 to ./nfs/indices/BEIR/nfcorpus/nfcorpus_colbertIndex/0.pt \t\t Saving Throughput = 97.7k passages per minute.\n",
      "\n",
      "#> num_embeddings = 1064705\n",
      "[May 01, 20:55:17] #> Starting..\n",
      "[May 01, 20:55:17] #> Processing slice #1 of 1 (range 0..1).\n",
      "[May 01, 20:55:17] #> Will write to ./nfs/indices/BEIR/nfcorpus/nfcorpus_colbertIndex/ivfpq.100.faiss.\n",
      "[May 01, 20:55:17] #> Loading ./nfs/indices/BEIR/nfcorpus/nfcorpus_colbertIndex/0.sample ...\n",
      "#> Sample has shape (53235, 128)\n",
      "[May 01, 20:55:17] #> Training with the vectors...\n",
      "[May 01, 20:55:17] #> Training now (using 0 GPUs)...\n",
      "53.397507667541504\n",
      "[May 01, 20:56:11] Done training!\n",
      "\n",
      "[May 01, 20:56:11] #> Indexing the vectors...\n",
      "[May 01, 20:56:11] #> Loading ('./nfs/indices/BEIR/nfcorpus/nfcorpus_colbertIndex/0.pt', None, None) (from queue)...\n",
      "[May 01, 20:56:14] #> Processing a sub_collection with shape (1064705, 128)\n",
      "[May 01, 20:56:14] Add data with shape (1064705, 128) (offset = 0)..\n",
      "[May 01, 20:56:28] Done indexing!\n",
      "[May 01, 20:56:28] Writing index to ./nfs/indices/BEIR/nfcorpus/nfcorpus_colbertIndex/ivfpq.100.faiss ...\n",
      "[May 01, 20:56:28] \n",
      "\n",
      "Done! All complete (for slice #1 of 1)!\n",
      "#> Faiss encoding complete\n",
      "#> Indexing complete, Time elapsed 429.02 seconds\n"
     ]
    }
   ],
   "source": [
    "from pyterrier_colbert.indexing import ColBERTIndexer\n",
    "index_root=\"./nfs/indices/BEIR/nfcorpus\"\n",
    "index_name=\"nfcorpus_colbertIndex\"\n",
    "dataset = pt.get_dataset(\"irds:beir/nfcorpus\")\n",
    "# default 150, stride 75\n",
    "checkpoint=\"http://www.dcs.gla.ac.uk/~craigm/ecir2021-tutorial/colbert_model_checkpoint.zip\"\n",
    "\n",
    "indexer =  pt.text.sliding(text_attr=\"text\", prepend_attr='title') >> ColBERTIndexer(checkpoint,index_root, index_name, chunksize=20)\n",
    "indexer.index(dataset.get_corpus_iter())"
   ]
  },
  {
   "cell_type": "code",
   "execution_count": 31,
   "id": "90f33f14",
   "metadata": {},
   "outputs": [
    {
     "name": "stderr",
     "output_type": "stream",
     "text": [
      "Some weights of ColBERT were not initialized from the model checkpoint at bert-base-uncased and are newly initialized: ['linear.weight']\n",
      "You should probably TRAIN this model on a down-stream task to be able to use it for predictions and inference.\n"
     ]
    },
    {
     "name": "stdout",
     "output_type": "stream",
     "text": [
      "[May 01, 22:00:23] #> Loading model checkpoint.\n",
      "[May 01, 22:00:23] #> Loading checkpoint http://www.dcs.gla.ac.uk/~craigm/ecir2021-tutorial/colbert_model_checkpoint.zip\n"
     ]
    },
    {
     "name": "stderr",
     "output_type": "stream",
     "text": [
      "/home/stu4/s6/rk1668/miniconda3/envs/ir/lib/python3.11/site-packages/torch/hub.py:682: UserWarning: Falling back to the old format < 1.6. This support will be deprecated in favor of default zipfile format introduced in 1.6. Please redo torch.save() to save it in the new zipfile format.\n",
      "  warnings.warn('Falling back to the old format < 1.6. This support will be '\n"
     ]
    },
    {
     "name": "stdout",
     "output_type": "stream",
     "text": [
      "[May 01, 22:00:48] #> checkpoint['epoch'] = 0\n",
      "[May 01, 22:00:48] #> checkpoint['batch'] = 44500\n"
     ]
    },
    {
     "ename": "AttributeError",
     "evalue": "'ColBERTFactory' object has no attribute 'index'",
     "output_type": "error",
     "traceback": [
      "\u001b[0;31m---------------------------------------------------------------------------\u001b[0m",
      "\u001b[0;31mAttributeError\u001b[0m                            Traceback (most recent call last)",
      "Cell \u001b[0;32mIn[31], line 8\u001b[0m\n\u001b[1;32m      5\u001b[0m colbert_factory \u001b[38;5;241m=\u001b[39m ColBERTFactory(checkpoint, \u001b[38;5;124m\"\u001b[39m\u001b[38;5;124m./nfs/indices/BEIR/nfcorpus\u001b[39m\u001b[38;5;124m\"\u001b[39m, \u001b[38;5;124m\"\u001b[39m\u001b[38;5;124mnfcorpus_colbertIndex\u001b[39m\u001b[38;5;124m\"\u001b[39m)\n\u001b[1;32m      7\u001b[0m \u001b[38;5;66;03m# Accessing properties (Depending on what ColBERTFactory exposes)\u001b[39;00m\n\u001b[0;32m----> 8\u001b[0m \u001b[38;5;28mprint\u001b[39m(\u001b[38;5;124m\"\u001b[39m\u001b[38;5;124mNumber of indexed documents:\u001b[39m\u001b[38;5;124m\"\u001b[39m, \u001b[43mcolbert_factory\u001b[49m\u001b[38;5;241;43m.\u001b[39;49m\u001b[43mindex\u001b[49m\u001b[38;5;241m.\u001b[39mndocs())\n\u001b[1;32m      9\u001b[0m \u001b[38;5;28mprint\u001b[39m(\u001b[38;5;124m\"\u001b[39m\u001b[38;5;124mVector dimensions:\u001b[39m\u001b[38;5;124m\"\u001b[39m, colbert_factory\u001b[38;5;241m.\u001b[39mindex\u001b[38;5;241m.\u001b[39mdim())\n",
      "\u001b[0;31mAttributeError\u001b[0m: 'ColBERTFactory' object has no attribute 'index'"
     ]
    }
   ],
   "source": [
    "#  Example pseudo-code for accessing index details programmatically (this may not run as-is)\n",
    "from pyterrier_colbert.ranking import ColBERTFactory\n",
    "\n",
    "# Instantiate the factory with the index path\n",
    "colbert_factory = ColBERTFactory(checkpoint, \"./nfs/indices/BEIR/nfcorpus\", \"nfcorpus_colbertIndex\")\n",
    "\n",
    "# Accessing properties (Depending on what ColBERTFactory exposes)\n",
    "print(\"Number of indexed documents:\", colbert_factory.index.ndocs())\n",
    "print(\"Vector dimensions:\", colbert_factory.index.dim())"
   ]
  },
  {
   "cell_type": "markdown",
   "id": "extreme-geometry",
   "metadata": {},
   "source": [
    "# Indexing for the External Corpus"
   ]
  },
  {
   "cell_type": "code",
   "execution_count": 8,
   "id": "romance-closure",
   "metadata": {},
   "outputs": [
    {
     "name": "stderr",
     "output_type": "stream",
     "text": []
    },
    {
     "name": "stdout",
     "output_type": "stream",
     "text": [
      "[May 01, 20:57:24] [0] \t\t #> Local args.bsize = 128\n",
      "[May 01, 20:57:24] [0] \t\t #> args.index_root = ./nfs/indices/colbert_passage\n",
      "[May 01, 20:57:24] [0] \t\t #> self.possible_subset_sizes = [466033]\n"
     ]
    },
    {
     "name": "stderr",
     "output_type": "stream",
     "text": [
      "Some weights of ColBERT were not initialized from the model checkpoint at bert-base-uncased and are newly initialized: ['linear.weight']\n",
      "You should probably TRAIN this model on a down-stream task to be able to use it for predictions and inference.\n"
     ]
    },
    {
     "name": "stdout",
     "output_type": "stream",
     "text": [
      "[May 01, 20:57:27] #> Loading model checkpoint.\n",
      "[May 01, 20:57:27] #> Loading checkpoint http://www.dcs.gla.ac.uk/~craigm/ecir2021-tutorial/colbert_model_checkpoint.zip\n"
     ]
    },
    {
     "name": "stderr",
     "output_type": "stream",
     "text": [
      "/home/stu4/s6/rk1668/miniconda3/envs/ir/lib/python3.11/site-packages/torch/hub.py:682: UserWarning: Falling back to the old format < 1.6. This support will be deprecated in favor of default zipfile format introduced in 1.6. Please redo torch.save() to save it in the new zipfile format.\n",
      "  warnings.warn('Falling back to the old format < 1.6. This support will be '\n"
     ]
    },
    {
     "name": "stdout",
     "output_type": "stream",
     "text": [
      "[May 01, 20:57:52] #> checkpoint['epoch'] = 0\n",
      "[May 01, 20:57:52] #> checkpoint['batch'] = 44500\n",
      "\n",
      "\n",
      "\n",
      "\n",
      "[May 01, 20:57:52] #> Creating directory ./nfs/indices/colbert_passage \n",
      "\n",
      "\n",
      "\n",
      "\n",
      "[May 01, 20:57:52] #> Creating directory ./nfs/indices/colbert_passage/external_colbertIndex \n",
      "\n",
      "\n"
     ]
    },
    {
     "name": "stderr",
     "output_type": "stream",
     "text": [
      "beir/nfcorpus documents: 100%|██████████| 3633/3633 [00:28<00:00, 129.68it/s]\n"
     ]
    },
    {
     "name": "stdout",
     "output_type": "stream",
     "text": [
      "[May 01, 21:00:24] [0] \t\t #> Completed batch #0 (starting at passage #0) \t\tPassages/min: 1.4k (overall),  1.4k (this encoding),  2619.7M (this saving)\n",
      "[May 01, 21:00:24] [0] \t\t [NOTE] Done with local share.\n",
      "[May 01, 21:00:27] [0] \t\t #> Joining saver thread.\n",
      "[May 01, 21:00:27] [0] \t\t #> Saved batch #0 to ./nfs/indices/colbert_passage/external_colbertIndex/0.pt \t\t Saving Throughput = 71.0k passages per minute.\n",
      "\n",
      "#> num_embeddings = 636776\n",
      "[May 01, 21:00:27] #> Starting..\n",
      "[May 01, 21:00:27] #> Processing slice #1 of 1 (range 0..1).\n",
      "[May 01, 21:00:27] #> Will write to ./nfs/indices/colbert_passage/external_colbertIndex/ivfpq.100.faiss.\n",
      "[May 01, 21:00:27] #> Loading ./nfs/indices/colbert_passage/external_colbertIndex/0.sample ...\n",
      "#> Sample has shape (31838, 128)\n",
      "[May 01, 21:00:27] #> Training with the vectors...\n",
      "[May 01, 21:00:27] #> Training now (using 0 GPUs)...\n",
      "40.303685665130615\n",
      "[May 01, 21:01:07] Done training!\n",
      "\n",
      "[May 01, 21:01:07] #> Indexing the vectors...\n",
      "[May 01, 21:01:07] #> Loading ('./nfs/indices/colbert_passage/external_colbertIndex/0.pt', None, None) (from queue)...\n",
      "[May 01, 21:01:09] #> Processing a sub_collection with shape (636776, 128)\n",
      "[May 01, 21:01:09] Add data with shape (636776, 128) (offset = 0)..\n",
      "[May 01, 21:01:16] Done indexing!\n",
      "[May 01, 21:01:16] Writing index to ./nfs/indices/colbert_passage/external_colbertIndex/ivfpq.100.faiss ...\n",
      "[May 01, 21:01:16] \n",
      "\n",
      "Done! All complete (for slice #1 of 1)!\n",
      "#> Faiss encoding complete\n",
      "#> Indexing complete, Time elapsed 232.35 seconds\n"
     ]
    }
   ],
   "source": [
    "from pyterrier_colbert.indexing import ColBERTIndexer\n",
    "index_root=\"./nfs/indices/colbert_passage\"\n",
    "index_name=\"external_colbertIndex\"\n",
    "dataset = pt.get_dataset(\"irds:beir/nfcorpus\")\n",
    "checkpoint=\"http://www.dcs.gla.ac.uk/~craigm/ecir2021-tutorial/colbert_model_checkpoint.zip\"\n",
    "\n",
    "# we have to find a dataset with format docid and text (if we use a different format, we need to index it accordingly)\n",
    "indexer = ColBERTIndexer(checkpoint,index_root, index_name, chunksize=20) # apply text sliding to the dataset if the dataset is not in passage format\n",
    "indexer.index(dataset.get_corpus_iter())"
   ]
  },
  {
   "cell_type": "markdown",
   "id": "signal-delta",
   "metadata": {},
   "source": [
    "# Loading query set\n",
    "- Choose the type of query set you would like to load, this demo shows the example code for loading the NFCorpus  query set:\n",
    " "
   ]
  },
  {
   "cell_type": "code",
   "execution_count": 9,
   "id": "declared-auckland",
   "metadata": {},
   "outputs": [
    {
     "name": "stderr",
     "output_type": "stream",
     "text": [
      "[INFO] [starting] opening zip file                               \n",
      "[INFO] [finished] opening zip file [23ms]                        \n",
      "[INFO] [starting] opening zip file                               \n",
      "[INFO] [finished] opening zip file [4ms]                         \n",
      "beir/nfcorpus documents:   0%|          | 0/3633 [13:24<?, ?it/s]"
     ]
    },
    {
     "name": "stdout",
     "output_type": "stream",
     "text": [
      "323\n",
      "12334\n"
     ]
    }
   ],
   "source": [
    "topics_nfcorpus=pt.get_dataset(\"irds:beir/nfcorpus/test\").get_topics()\n",
    "qrels_nfcorpus=pt.get_dataset(\"irds:beir/nfcorpus/test\").get_qrels()\n",
    "print(len(topics_nfcorpus))\n",
    "print(len(qrels_nfcorpus))\n"
   ]
  },
  {
   "cell_type": "markdown",
   "id": "skilled-sociology",
   "metadata": {},
   "source": [
    "# ColBERT-PRF on Target Corpus"
   ]
  },
  {
   "cell_type": "code",
   "execution_count": 11,
   "id": "respiratory-skill",
   "metadata": {},
   "outputs": [
    {
     "name": "stderr",
     "output_type": "stream",
     "text": [
      "Some weights of ColBERT were not initialized from the model checkpoint at bert-base-uncased and are newly initialized: ['linear.weight']\n",
      "You should probably TRAIN this model on a down-stream task to be able to use it for predictions and inference.\n"
     ]
    },
    {
     "name": "stdout",
     "output_type": "stream",
     "text": [
      "[May 01, 21:22:42] #> Loading model checkpoint.\n",
      "[May 01, 21:22:42] #> Loading checkpoint http://www.dcs.gla.ac.uk/~craigm/colbert.dnn.zip\n"
     ]
    },
    {
     "name": "stderr",
     "output_type": "stream",
     "text": [
      "/home/stu4/s6/rk1668/miniconda3/envs/ir/lib/python3.11/site-packages/torch/hub.py:682: UserWarning: Falling back to the old format < 1.6. This support will be deprecated in favor of default zipfile format introduced in 1.6. Please redo torch.save() to save it in the new zipfile format.\n",
      "  warnings.warn('Falling back to the old format < 1.6. This support will be '\n"
     ]
    },
    {
     "name": "stdout",
     "output_type": "stream",
     "text": [
      "[May 01, 21:23:08] #> checkpoint['epoch'] = 0\n",
      "[May 01, 21:23:08] #> checkpoint['batch'] = 44500\n",
      "[May 01, 21:23:09] #> Loading the FAISS index from ./nfs/indices/BEIR/nfcorpus/nfcorpus_colbertIndex/ivfpq.100.faiss ..\n",
      "[May 01, 21:23:09] #> Building the emb2pid mapping..\n",
      "[May 01, 21:23:09] len(self.emb2pid) = 1064705\n",
      "Loading reranking index, memtype=mem\n"
     ]
    },
    {
     "name": "stderr",
     "output_type": "stream",
     "text": [
      "Loading index shards to memory: 100%|██████████| 1/1 [00:00<00:00,  4.96shard/s]\n"
     ]
    }
   ],
   "source": [
    "import pyterrier_colbert.ranking\n",
    "# creates an object of colbertfactory class with the arguments.\n",
    "pytcolbertTgt = pyterrier_colbert.ranking.ColBERTFactory(\"http://www.dcs.gla.ac.uk/~craigm/colbert.dnn.zip\", \\\n",
    "                                                      \"./nfs/indices/BEIR/nfcorpus\", \\\n",
    "                                                      \"nfcorpus_colbertIndex\",faiss_partitions=100,memtype='mem')\n",
    "pytcolbertTgt.faiss_index_on_gpu = False\n",
    "\n",
    "# In the below pipeline, set_retrieve() does the ANN retrieval, \n",
    "\"\"\"\n",
    "        set_retrieve() Performs ANN retrieval, but the retrieval forms a set - i.e. there is no score attribute. Number of documents retrieved\n",
    "        is indirectly controlled by the faiss_depth parameters (denoted as k' in the original ColBERT paper).\n",
    "        #input: qid, query\n",
    "        #OR\n",
    "        #input: qid, query, query_embs, query_toks, query_weights\n",
    "\n",
    "        #output: qid, query, docid, [docno]\n",
    "        #OR\n",
    "        #output: qid, query, query_embs, query_toks, query_weights, docid, [docno]\n",
    " \"\"\"  \n",
    "\"\"\"\n",
    "        Returns a transformer that uses the ColBERT index to perform scoring of documents to queries \n",
    "        #input: qid, query, [docno], [docid] \n",
    "        #OR\n",
    "        #input: qid, query, query_embs, query_toks, query_weights, docno], [docid] \n",
    "\n",
    "        #output: qid, query, docno, score\n",
    "\"\"\"\n",
    "dense_e2eTgt = pytcolbertTgt.set_retrieve() >> pytcolbertTgt.index_scorer(query_encoded=True)"
   ]
  },
  {
   "cell_type": "code",
   "execution_count": 12,
   "id": "simple-glucose",
   "metadata": {},
   "outputs": [
    {
     "name": "stdout",
     "output_type": "stream",
     "text": [
      "[May 01, 21:23:16] #> Building the emb2tid mapping..\n",
      "1064705\n",
      "Computing collection frequencies\n",
      "Done\n",
      "Loading doclens\n"
     ]
    },
    {
     "name": "stderr",
     "output_type": "stream",
     "text": [
      "Computing document frequencies: 100%|██████████| 5983/5983 [00:00<00:00, 16357.08d/s]\n",
      "100%|██████████| 30522/30522 [00:00<00:00, 163573.55it/s]\n",
      "/home/stu4/s6/rk1668/miniconda3/envs/ir/lib/python3.11/site-packages/pyterrier_colbert/ranking.py:1033: UserWarning: You have sklearn version 1.4.1.post1 - sklearn KMeans clustering changed in 0.24, so performance may differ from those reported in the ICTIR 2021 paper, which used 0.23.2. See also https://github.com/scikit-learn/scikit-learn/issues/19990\n",
      "  warn(\"You have sklearn version %s - sklearn KMeans clustering changed in 0.24, so performance may differ from those reported in the ICTIR 2021 paper, which used 0.23.2. \"\n"
     ]
    }
   ],
   "source": [
    "from pyterrier_colbert.ranking import ColbertPRF\n",
    "dense_e2eTgt = pytcolbertTgt.set_retrieve() >> pytcolbertTgt.index_scorer(query_encoded=True)\n",
    "PRFTgt = dense_e2eTgt %10 \\\n",
    ">> ColbertPRF(pytcolbertTgt, k=24, fb_docs=3, fb_embs=10, beta=1)  # returns a dataframe after performing PRF, used kmeans to find nearest doc embeds"
   ]
  },
  {
   "cell_type": "code",
   "execution_count": 14,
   "id": "medieval-lender",
   "metadata": {},
   "outputs": [
    {
     "name": "stdout",
     "output_type": "stream",
     "text": [
      "323\n"
     ]
    }
   ],
   "source": [
    "print(len(topics_nfcorpus))\n",
    "res = PRFTgt(topics_nfcorpus) # result of PRFtarget are stored in res, we have [\"qid\", \"query\", \"query_embs\", \"query_toks\", \"query_weights\"]\n",
    "import pandas as pd\n",
    "pd.to_pickle(res,\"./tgt/Tgt_BEIR.nfcorpus.embs.pkl\")"
   ]
  },
  {
   "cell_type": "markdown",
   "id": "expected-colon",
   "metadata": {},
   "source": [
    "#  ColBERT-PRF on External Corpus"
   ]
  },
  {
   "cell_type": "code",
   "execution_count": 15,
   "id": "coated-sense",
   "metadata": {},
   "outputs": [
    {
     "name": "stderr",
     "output_type": "stream",
     "text": [
      "Some weights of ColBERT were not initialized from the model checkpoint at bert-base-uncased and are newly initialized: ['linear.weight']\n",
      "You should probably TRAIN this model on a down-stream task to be able to use it for predictions and inference.\n"
     ]
    },
    {
     "name": "stdout",
     "output_type": "stream",
     "text": [
      "[May 01, 21:34:05] #> Loading model checkpoint.\n",
      "[May 01, 21:34:05] #> Loading checkpoint http://www.dcs.gla.ac.uk/~craigm/colbert.dnn.zip\n"
     ]
    },
    {
     "name": "stderr",
     "output_type": "stream",
     "text": [
      "/home/stu4/s6/rk1668/miniconda3/envs/ir/lib/python3.11/site-packages/torch/hub.py:682: UserWarning: Falling back to the old format < 1.6. This support will be deprecated in favor of default zipfile format introduced in 1.6. Please redo torch.save() to save it in the new zipfile format.\n",
      "  warnings.warn('Falling back to the old format < 1.6. This support will be '\n"
     ]
    },
    {
     "name": "stdout",
     "output_type": "stream",
     "text": [
      "[May 01, 21:34:31] #> checkpoint['epoch'] = 0\n",
      "[May 01, 21:34:31] #> checkpoint['batch'] = 44500\n",
      "[May 01, 21:34:31] #> Loading the FAISS index from ./nfs/indices/colbert_passage/external_colbertIndex/ivfpq.100.faiss ..\n",
      "[May 01, 21:34:31] #> Building the emb2pid mapping..\n",
      "[May 01, 21:34:31] len(self.emb2pid) = 636776\n",
      "Loading reranking index, memtype=mem\n"
     ]
    },
    {
     "name": "stderr",
     "output_type": "stream",
     "text": [
      "Loading index shards to memory: 100%|██████████| 1/1 [00:00<00:00,  7.25shard/s]\n"
     ]
    }
   ],
   "source": [
    "from pyterrier_colbert.ranking import ColBERTFactory\n",
    "\n",
    "import pyterrier_colbert.ranking\n",
    "pytcolbert = pyterrier_colbert.ranking.ColBERTFactory(\"http://www.dcs.gla.ac.uk/~craigm/colbert.dnn.zip\", \\\n",
    "                                                      \"./nfs/indices/colbert_passage\", \\\n",
    "                                                      \"external_colbertIndex\",faiss_partitions=100,memtype='mem')\n",
    "pytcolbert.faiss_index_on_gpu = False\n",
    "dense_e2e = pytcolbert.set_retrieve() >> pytcolbert.index_scorer()"
   ]
  },
  {
   "cell_type": "code",
   "execution_count": 16,
   "id": "heated-shoulder",
   "metadata": {},
   "outputs": [
    {
     "name": "stdout",
     "output_type": "stream",
     "text": [
      "[May 01, 21:34:35] #> Building the emb2tid mapping..\n",
      "636776\n",
      "Computing collection frequencies\n",
      "Done\n",
      "Loading doclens\n"
     ]
    },
    {
     "name": "stderr",
     "output_type": "stream",
     "text": [
      "Computing document frequencies: 100%|██████████| 3633/3633 [00:00<00:00, 16380.27d/s]\n",
      "100%|██████████| 30522/30522 [00:00<00:00, 154914.68it/s]\n",
      "/home/stu4/s6/rk1668/miniconda3/envs/ir/lib/python3.11/site-packages/pyterrier_colbert/ranking.py:1033: UserWarning: You have sklearn version 1.4.1.post1 - sklearn KMeans clustering changed in 0.24, so performance may differ from those reported in the ICTIR 2021 paper, which used 0.23.2. See also https://github.com/scikit-learn/scikit-learn/issues/19990\n",
      "  warn(\"You have sklearn version %s - sklearn KMeans clustering changed in 0.24, so performance may differ from those reported in the ICTIR 2021 paper, which used 0.23.2. \"\n"
     ]
    }
   ],
   "source": [
    "\n",
    "PRF_ext = dense_e2e %10 >> ColbertPRF(pytcolbert, k=24, fb_docs=3, fb_embs=10, beta=1)"
   ]
  },
  {
   "cell_type": "code",
   "execution_count": 20,
   "id": "arbitrary-extent",
   "metadata": {},
   "outputs": [
    {
     "name": "stderr",
     "output_type": "stream",
     "text": [
      "/opt/conda/lib/python3.7/site-packages/pyterrier_colbert/ranking.py:697: UserWarning: index_scorer() used with query_encoded=False, but query_embs column present in input. Should you use query_encoded=True?\n",
      "  warn(\"index_scorer() used with query_encoded=False, but query_embs column present in input. Should you use query_encoded=True?\")\n"
     ]
    },
    {
     "data": {
      "text/html": [
       "<div>\n",
       "<style scoped>\n",
       "    .dataframe tbody tr th:only-of-type {\n",
       "        vertical-align: middle;\n",
       "    }\n",
       "\n",
       "    .dataframe tbody tr th {\n",
       "        vertical-align: top;\n",
       "    }\n",
       "\n",
       "    .dataframe thead th {\n",
       "        text-align: right;\n",
       "    }\n",
       "</style>\n",
       "<table border=\"1\" class=\"dataframe\">\n",
       "  <thead>\n",
       "    <tr style=\"text-align: right;\">\n",
       "      <th></th>\n",
       "      <th>qid</th>\n",
       "      <th>docno</th>\n",
       "      <th>query</th>\n",
       "      <th>query_embs</th>\n",
       "      <th>query_toks</th>\n",
       "      <th>query_weights</th>\n",
       "    </tr>\n",
       "  </thead>\n",
       "  <tbody>\n",
       "    <tr>\n",
       "      <th>0</th>\n",
       "      <td>156493</td>\n",
       "      <td>3288601</td>\n",
       "      <td>do goldfish grow</td>\n",
       "      <td>[[tensor(0.0995), tensor(0.1051), tensor(-0.05...</td>\n",
       "      <td>[bowls, ##´, ##fish, kept, gold, fish, grow, f...</td>\n",
       "      <td>[tensor(1.), tensor(1.), tensor(1.), tensor(1....</td>\n",
       "    </tr>\n",
       "  </tbody>\n",
       "</table>\n",
       "</div>"
      ],
      "text/plain": [
       "      qid    docno             query  \\\n",
       "0  156493  3288601  do goldfish grow   \n",
       "\n",
       "                                          query_embs  \\\n",
       "0  [[tensor(0.0995), tensor(0.1051), tensor(-0.05...   \n",
       "\n",
       "                                          query_toks  \\\n",
       "0  [bowls, ##´, ##fish, kept, gold, fish, grow, f...   \n",
       "\n",
       "                                       query_weights  \n",
       "0  [tensor(1.), tensor(1.), tensor(1.), tensor(1....  "
      ]
     },
     "execution_count": 20,
     "metadata": {},
     "output_type": "execute_result"
    }
   ],
   "source": [
    "PRF_ext(topics2019.head(1))  # did not run the cell"
   ]
  },
  {
   "cell_type": "code",
   "execution_count": 18,
   "id": "administrative-bottle",
   "metadata": {},
   "outputs": [
    {
     "name": "stdout",
     "output_type": "stream",
     "text": [
      "323\n"
     ]
    },
    {
     "name": "stderr",
     "output_type": "stream",
     "text": [
      "/home/stu4/s6/rk1668/miniconda3/envs/ir/lib/python3.11/site-packages/pyterrier_colbert/ranking.py:735: UserWarning: index_scorer() used with query_encoded=False, but query_embs column present in input. Should you use query_encoded=True?\n",
      "  warn(\"index_scorer() used with query_encoded=False, but query_embs column present in input. Should you use query_encoded=True?\")\n",
      "/home/stu4/s6/rk1668/miniconda3/envs/ir/lib/python3.11/site-packages/pyterrier_colbert/ranking.py:735: UserWarning: index_scorer() used with query_encoded=False, but query_embs column present in input. Should you use query_encoded=True?\n",
      "  warn(\"index_scorer() used with query_encoded=False, but query_embs column present in input. Should you use query_encoded=True?\")\n",
      "/home/stu4/s6/rk1668/miniconda3/envs/ir/lib/python3.11/site-packages/pyterrier_colbert/ranking.py:735: UserWarning: index_scorer() used with query_encoded=False, but query_embs column present in input. Should you use query_encoded=True?\n",
      "  warn(\"index_scorer() used with query_encoded=False, but query_embs column present in input. Should you use query_encoded=True?\")\n",
      "/home/stu4/s6/rk1668/miniconda3/envs/ir/lib/python3.11/site-packages/pyterrier_colbert/ranking.py:735: UserWarning: index_scorer() used with query_encoded=False, but query_embs column present in input. Should you use query_encoded=True?\n",
      "  warn(\"index_scorer() used with query_encoded=False, but query_embs column present in input. Should you use query_encoded=True?\")\n",
      "/home/stu4/s6/rk1668/miniconda3/envs/ir/lib/python3.11/site-packages/pyterrier_colbert/ranking.py:735: UserWarning: index_scorer() used with query_encoded=False, but query_embs column present in input. Should you use query_encoded=True?\n",
      "  warn(\"index_scorer() used with query_encoded=False, but query_embs column present in input. Should you use query_encoded=True?\")\n",
      "/home/stu4/s6/rk1668/miniconda3/envs/ir/lib/python3.11/site-packages/pyterrier_colbert/ranking.py:735: UserWarning: index_scorer() used with query_encoded=False, but query_embs column present in input. Should you use query_encoded=True?\n",
      "  warn(\"index_scorer() used with query_encoded=False, but query_embs column present in input. Should you use query_encoded=True?\")\n",
      "/home/stu4/s6/rk1668/miniconda3/envs/ir/lib/python3.11/site-packages/pyterrier_colbert/ranking.py:735: UserWarning: index_scorer() used with query_encoded=False, but query_embs column present in input. Should you use query_encoded=True?\n",
      "  warn(\"index_scorer() used with query_encoded=False, but query_embs column present in input. Should you use query_encoded=True?\")\n",
      "/home/stu4/s6/rk1668/miniconda3/envs/ir/lib/python3.11/site-packages/pyterrier_colbert/ranking.py:735: UserWarning: index_scorer() used with query_encoded=False, but query_embs column present in input. Should you use query_encoded=True?\n",
      "  warn(\"index_scorer() used with query_encoded=False, but query_embs column present in input. Should you use query_encoded=True?\")\n",
      "/home/stu4/s6/rk1668/miniconda3/envs/ir/lib/python3.11/site-packages/pyterrier_colbert/ranking.py:735: UserWarning: index_scorer() used with query_encoded=False, but query_embs column present in input. Should you use query_encoded=True?\n",
      "  warn(\"index_scorer() used with query_encoded=False, but query_embs column present in input. Should you use query_encoded=True?\")\n",
      "/home/stu4/s6/rk1668/miniconda3/envs/ir/lib/python3.11/site-packages/pyterrier_colbert/ranking.py:735: UserWarning: index_scorer() used with query_encoded=False, but query_embs column present in input. Should you use query_encoded=True?\n",
      "  warn(\"index_scorer() used with query_encoded=False, but query_embs column present in input. Should you use query_encoded=True?\")\n",
      "/home/stu4/s6/rk1668/miniconda3/envs/ir/lib/python3.11/site-packages/pyterrier_colbert/ranking.py:735: UserWarning: index_scorer() used with query_encoded=False, but query_embs column present in input. Should you use query_encoded=True?\n",
      "  warn(\"index_scorer() used with query_encoded=False, but query_embs column present in input. Should you use query_encoded=True?\")\n",
      "/home/stu4/s6/rk1668/miniconda3/envs/ir/lib/python3.11/site-packages/pyterrier_colbert/ranking.py:735: UserWarning: index_scorer() used with query_encoded=False, but query_embs column present in input. Should you use query_encoded=True?\n",
      "  warn(\"index_scorer() used with query_encoded=False, but query_embs column present in input. Should you use query_encoded=True?\")\n",
      "/home/stu4/s6/rk1668/miniconda3/envs/ir/lib/python3.11/site-packages/pyterrier_colbert/ranking.py:735: UserWarning: index_scorer() used with query_encoded=False, but query_embs column present in input. Should you use query_encoded=True?\n",
      "  warn(\"index_scorer() used with query_encoded=False, but query_embs column present in input. Should you use query_encoded=True?\")\n",
      "/home/stu4/s6/rk1668/miniconda3/envs/ir/lib/python3.11/site-packages/pyterrier_colbert/ranking.py:735: UserWarning: index_scorer() used with query_encoded=False, but query_embs column present in input. Should you use query_encoded=True?\n",
      "  warn(\"index_scorer() used with query_encoded=False, but query_embs column present in input. Should you use query_encoded=True?\")\n",
      "/home/stu4/s6/rk1668/miniconda3/envs/ir/lib/python3.11/site-packages/pyterrier_colbert/ranking.py:735: UserWarning: index_scorer() used with query_encoded=False, but query_embs column present in input. Should you use query_encoded=True?\n",
      "  warn(\"index_scorer() used with query_encoded=False, but query_embs column present in input. Should you use query_encoded=True?\")\n",
      "/home/stu4/s6/rk1668/miniconda3/envs/ir/lib/python3.11/site-packages/pyterrier_colbert/ranking.py:735: UserWarning: index_scorer() used with query_encoded=False, but query_embs column present in input. Should you use query_encoded=True?\n",
      "  warn(\"index_scorer() used with query_encoded=False, but query_embs column present in input. Should you use query_encoded=True?\")\n",
      "/home/stu4/s6/rk1668/miniconda3/envs/ir/lib/python3.11/site-packages/pyterrier_colbert/ranking.py:735: UserWarning: index_scorer() used with query_encoded=False, but query_embs column present in input. Should you use query_encoded=True?\n",
      "  warn(\"index_scorer() used with query_encoded=False, but query_embs column present in input. Should you use query_encoded=True?\")\n",
      "/home/stu4/s6/rk1668/miniconda3/envs/ir/lib/python3.11/site-packages/pyterrier_colbert/ranking.py:735: UserWarning: index_scorer() used with query_encoded=False, but query_embs column present in input. Should you use query_encoded=True?\n",
      "  warn(\"index_scorer() used with query_encoded=False, but query_embs column present in input. Should you use query_encoded=True?\")\n",
      "/home/stu4/s6/rk1668/miniconda3/envs/ir/lib/python3.11/site-packages/pyterrier_colbert/ranking.py:735: UserWarning: index_scorer() used with query_encoded=False, but query_embs column present in input. Should you use query_encoded=True?\n",
      "  warn(\"index_scorer() used with query_encoded=False, but query_embs column present in input. Should you use query_encoded=True?\")\n",
      "/home/stu4/s6/rk1668/miniconda3/envs/ir/lib/python3.11/site-packages/pyterrier_colbert/ranking.py:735: UserWarning: index_scorer() used with query_encoded=False, but query_embs column present in input. Should you use query_encoded=True?\n",
      "  warn(\"index_scorer() used with query_encoded=False, but query_embs column present in input. Should you use query_encoded=True?\")\n",
      "/home/stu4/s6/rk1668/miniconda3/envs/ir/lib/python3.11/site-packages/pyterrier_colbert/ranking.py:735: UserWarning: index_scorer() used with query_encoded=False, but query_embs column present in input. Should you use query_encoded=True?\n",
      "  warn(\"index_scorer() used with query_encoded=False, but query_embs column present in input. Should you use query_encoded=True?\")\n",
      "/home/stu4/s6/rk1668/miniconda3/envs/ir/lib/python3.11/site-packages/pyterrier_colbert/ranking.py:735: UserWarning: index_scorer() used with query_encoded=False, but query_embs column present in input. Should you use query_encoded=True?\n",
      "  warn(\"index_scorer() used with query_encoded=False, but query_embs column present in input. Should you use query_encoded=True?\")\n",
      "/home/stu4/s6/rk1668/miniconda3/envs/ir/lib/python3.11/site-packages/pyterrier_colbert/ranking.py:735: UserWarning: index_scorer() used with query_encoded=False, but query_embs column present in input. Should you use query_encoded=True?\n",
      "  warn(\"index_scorer() used with query_encoded=False, but query_embs column present in input. Should you use query_encoded=True?\")\n",
      "/home/stu4/s6/rk1668/miniconda3/envs/ir/lib/python3.11/site-packages/pyterrier_colbert/ranking.py:735: UserWarning: index_scorer() used with query_encoded=False, but query_embs column present in input. Should you use query_encoded=True?\n",
      "  warn(\"index_scorer() used with query_encoded=False, but query_embs column present in input. Should you use query_encoded=True?\")\n",
      "/home/stu4/s6/rk1668/miniconda3/envs/ir/lib/python3.11/site-packages/pyterrier_colbert/ranking.py:735: UserWarning: index_scorer() used with query_encoded=False, but query_embs column present in input. Should you use query_encoded=True?\n",
      "  warn(\"index_scorer() used with query_encoded=False, but query_embs column present in input. Should you use query_encoded=True?\")\n",
      "/home/stu4/s6/rk1668/miniconda3/envs/ir/lib/python3.11/site-packages/pyterrier_colbert/ranking.py:735: UserWarning: index_scorer() used with query_encoded=False, but query_embs column present in input. Should you use query_encoded=True?\n",
      "  warn(\"index_scorer() used with query_encoded=False, but query_embs column present in input. Should you use query_encoded=True?\")\n",
      "/home/stu4/s6/rk1668/miniconda3/envs/ir/lib/python3.11/site-packages/pyterrier_colbert/ranking.py:735: UserWarning: index_scorer() used with query_encoded=False, but query_embs column present in input. Should you use query_encoded=True?\n",
      "  warn(\"index_scorer() used with query_encoded=False, but query_embs column present in input. Should you use query_encoded=True?\")\n",
      "/home/stu4/s6/rk1668/miniconda3/envs/ir/lib/python3.11/site-packages/pyterrier_colbert/ranking.py:735: UserWarning: index_scorer() used with query_encoded=False, but query_embs column present in input. Should you use query_encoded=True?\n",
      "  warn(\"index_scorer() used with query_encoded=False, but query_embs column present in input. Should you use query_encoded=True?\")\n",
      "/home/stu4/s6/rk1668/miniconda3/envs/ir/lib/python3.11/site-packages/pyterrier_colbert/ranking.py:735: UserWarning: index_scorer() used with query_encoded=False, but query_embs column present in input. Should you use query_encoded=True?\n",
      "  warn(\"index_scorer() used with query_encoded=False, but query_embs column present in input. Should you use query_encoded=True?\")\n",
      "/home/stu4/s6/rk1668/miniconda3/envs/ir/lib/python3.11/site-packages/pyterrier_colbert/ranking.py:735: UserWarning: index_scorer() used with query_encoded=False, but query_embs column present in input. Should you use query_encoded=True?\n",
      "  warn(\"index_scorer() used with query_encoded=False, but query_embs column present in input. Should you use query_encoded=True?\")\n",
      "/home/stu4/s6/rk1668/miniconda3/envs/ir/lib/python3.11/site-packages/pyterrier_colbert/ranking.py:735: UserWarning: index_scorer() used with query_encoded=False, but query_embs column present in input. Should you use query_encoded=True?\n",
      "  warn(\"index_scorer() used with query_encoded=False, but query_embs column present in input. Should you use query_encoded=True?\")\n",
      "/home/stu4/s6/rk1668/miniconda3/envs/ir/lib/python3.11/site-packages/pyterrier_colbert/ranking.py:735: UserWarning: index_scorer() used with query_encoded=False, but query_embs column present in input. Should you use query_encoded=True?\n",
      "  warn(\"index_scorer() used with query_encoded=False, but query_embs column present in input. Should you use query_encoded=True?\")\n",
      "/home/stu4/s6/rk1668/miniconda3/envs/ir/lib/python3.11/site-packages/pyterrier_colbert/ranking.py:735: UserWarning: index_scorer() used with query_encoded=False, but query_embs column present in input. Should you use query_encoded=True?\n",
      "  warn(\"index_scorer() used with query_encoded=False, but query_embs column present in input. Should you use query_encoded=True?\")\n",
      "/home/stu4/s6/rk1668/miniconda3/envs/ir/lib/python3.11/site-packages/pyterrier_colbert/ranking.py:735: UserWarning: index_scorer() used with query_encoded=False, but query_embs column present in input. Should you use query_encoded=True?\n",
      "  warn(\"index_scorer() used with query_encoded=False, but query_embs column present in input. Should you use query_encoded=True?\")\n",
      "/home/stu4/s6/rk1668/miniconda3/envs/ir/lib/python3.11/site-packages/pyterrier_colbert/ranking.py:735: UserWarning: index_scorer() used with query_encoded=False, but query_embs column present in input. Should you use query_encoded=True?\n",
      "  warn(\"index_scorer() used with query_encoded=False, but query_embs column present in input. Should you use query_encoded=True?\")\n",
      "/home/stu4/s6/rk1668/miniconda3/envs/ir/lib/python3.11/site-packages/pyterrier_colbert/ranking.py:735: UserWarning: index_scorer() used with query_encoded=False, but query_embs column present in input. Should you use query_encoded=True?\n",
      "  warn(\"index_scorer() used with query_encoded=False, but query_embs column present in input. Should you use query_encoded=True?\")\n",
      "/home/stu4/s6/rk1668/miniconda3/envs/ir/lib/python3.11/site-packages/pyterrier_colbert/ranking.py:735: UserWarning: index_scorer() used with query_encoded=False, but query_embs column present in input. Should you use query_encoded=True?\n",
      "  warn(\"index_scorer() used with query_encoded=False, but query_embs column present in input. Should you use query_encoded=True?\")\n",
      "/home/stu4/s6/rk1668/miniconda3/envs/ir/lib/python3.11/site-packages/pyterrier_colbert/ranking.py:735: UserWarning: index_scorer() used with query_encoded=False, but query_embs column present in input. Should you use query_encoded=True?\n",
      "  warn(\"index_scorer() used with query_encoded=False, but query_embs column present in input. Should you use query_encoded=True?\")\n",
      "/home/stu4/s6/rk1668/miniconda3/envs/ir/lib/python3.11/site-packages/pyterrier_colbert/ranking.py:735: UserWarning: index_scorer() used with query_encoded=False, but query_embs column present in input. Should you use query_encoded=True?\n",
      "  warn(\"index_scorer() used with query_encoded=False, but query_embs column present in input. Should you use query_encoded=True?\")\n",
      "/home/stu4/s6/rk1668/miniconda3/envs/ir/lib/python3.11/site-packages/pyterrier_colbert/ranking.py:735: UserWarning: index_scorer() used with query_encoded=False, but query_embs column present in input. Should you use query_encoded=True?\n",
      "  warn(\"index_scorer() used with query_encoded=False, but query_embs column present in input. Should you use query_encoded=True?\")\n",
      "/home/stu4/s6/rk1668/miniconda3/envs/ir/lib/python3.11/site-packages/pyterrier_colbert/ranking.py:735: UserWarning: index_scorer() used with query_encoded=False, but query_embs column present in input. Should you use query_encoded=True?\n",
      "  warn(\"index_scorer() used with query_encoded=False, but query_embs column present in input. Should you use query_encoded=True?\")\n",
      "/home/stu4/s6/rk1668/miniconda3/envs/ir/lib/python3.11/site-packages/pyterrier_colbert/ranking.py:735: UserWarning: index_scorer() used with query_encoded=False, but query_embs column present in input. Should you use query_encoded=True?\n",
      "  warn(\"index_scorer() used with query_encoded=False, but query_embs column present in input. Should you use query_encoded=True?\")\n",
      "/home/stu4/s6/rk1668/miniconda3/envs/ir/lib/python3.11/site-packages/pyterrier_colbert/ranking.py:735: UserWarning: index_scorer() used with query_encoded=False, but query_embs column present in input. Should you use query_encoded=True?\n",
      "  warn(\"index_scorer() used with query_encoded=False, but query_embs column present in input. Should you use query_encoded=True?\")\n",
      "/home/stu4/s6/rk1668/miniconda3/envs/ir/lib/python3.11/site-packages/pyterrier_colbert/ranking.py:735: UserWarning: index_scorer() used with query_encoded=False, but query_embs column present in input. Should you use query_encoded=True?\n",
      "  warn(\"index_scorer() used with query_encoded=False, but query_embs column present in input. Should you use query_encoded=True?\")\n",
      "/home/stu4/s6/rk1668/miniconda3/envs/ir/lib/python3.11/site-packages/pyterrier_colbert/ranking.py:735: UserWarning: index_scorer() used with query_encoded=False, but query_embs column present in input. Should you use query_encoded=True?\n",
      "  warn(\"index_scorer() used with query_encoded=False, but query_embs column present in input. Should you use query_encoded=True?\")\n",
      "/home/stu4/s6/rk1668/miniconda3/envs/ir/lib/python3.11/site-packages/pyterrier_colbert/ranking.py:735: UserWarning: index_scorer() used with query_encoded=False, but query_embs column present in input. Should you use query_encoded=True?\n",
      "  warn(\"index_scorer() used with query_encoded=False, but query_embs column present in input. Should you use query_encoded=True?\")\n",
      "/home/stu4/s6/rk1668/miniconda3/envs/ir/lib/python3.11/site-packages/pyterrier_colbert/ranking.py:735: UserWarning: index_scorer() used with query_encoded=False, but query_embs column present in input. Should you use query_encoded=True?\n",
      "  warn(\"index_scorer() used with query_encoded=False, but query_embs column present in input. Should you use query_encoded=True?\")\n",
      "/home/stu4/s6/rk1668/miniconda3/envs/ir/lib/python3.11/site-packages/pyterrier_colbert/ranking.py:735: UserWarning: index_scorer() used with query_encoded=False, but query_embs column present in input. Should you use query_encoded=True?\n",
      "  warn(\"index_scorer() used with query_encoded=False, but query_embs column present in input. Should you use query_encoded=True?\")\n",
      "/home/stu4/s6/rk1668/miniconda3/envs/ir/lib/python3.11/site-packages/pyterrier_colbert/ranking.py:735: UserWarning: index_scorer() used with query_encoded=False, but query_embs column present in input. Should you use query_encoded=True?\n",
      "  warn(\"index_scorer() used with query_encoded=False, but query_embs column present in input. Should you use query_encoded=True?\")\n",
      "/home/stu4/s6/rk1668/miniconda3/envs/ir/lib/python3.11/site-packages/pyterrier_colbert/ranking.py:735: UserWarning: index_scorer() used with query_encoded=False, but query_embs column present in input. Should you use query_encoded=True?\n",
      "  warn(\"index_scorer() used with query_encoded=False, but query_embs column present in input. Should you use query_encoded=True?\")\n",
      "/home/stu4/s6/rk1668/miniconda3/envs/ir/lib/python3.11/site-packages/pyterrier_colbert/ranking.py:735: UserWarning: index_scorer() used with query_encoded=False, but query_embs column present in input. Should you use query_encoded=True?\n",
      "  warn(\"index_scorer() used with query_encoded=False, but query_embs column present in input. Should you use query_encoded=True?\")\n",
      "/home/stu4/s6/rk1668/miniconda3/envs/ir/lib/python3.11/site-packages/pyterrier_colbert/ranking.py:735: UserWarning: index_scorer() used with query_encoded=False, but query_embs column present in input. Should you use query_encoded=True?\n",
      "  warn(\"index_scorer() used with query_encoded=False, but query_embs column present in input. Should you use query_encoded=True?\")\n",
      "/home/stu4/s6/rk1668/miniconda3/envs/ir/lib/python3.11/site-packages/pyterrier_colbert/ranking.py:735: UserWarning: index_scorer() used with query_encoded=False, but query_embs column present in input. Should you use query_encoded=True?\n",
      "  warn(\"index_scorer() used with query_encoded=False, but query_embs column present in input. Should you use query_encoded=True?\")\n",
      "/home/stu4/s6/rk1668/miniconda3/envs/ir/lib/python3.11/site-packages/pyterrier_colbert/ranking.py:735: UserWarning: index_scorer() used with query_encoded=False, but query_embs column present in input. Should you use query_encoded=True?\n",
      "  warn(\"index_scorer() used with query_encoded=False, but query_embs column present in input. Should you use query_encoded=True?\")\n",
      "/home/stu4/s6/rk1668/miniconda3/envs/ir/lib/python3.11/site-packages/pyterrier_colbert/ranking.py:735: UserWarning: index_scorer() used with query_encoded=False, but query_embs column present in input. Should you use query_encoded=True?\n",
      "  warn(\"index_scorer() used with query_encoded=False, but query_embs column present in input. Should you use query_encoded=True?\")\n",
      "/home/stu4/s6/rk1668/miniconda3/envs/ir/lib/python3.11/site-packages/pyterrier_colbert/ranking.py:735: UserWarning: index_scorer() used with query_encoded=False, but query_embs column present in input. Should you use query_encoded=True?\n",
      "  warn(\"index_scorer() used with query_encoded=False, but query_embs column present in input. Should you use query_encoded=True?\")\n",
      "/home/stu4/s6/rk1668/miniconda3/envs/ir/lib/python3.11/site-packages/pyterrier_colbert/ranking.py:735: UserWarning: index_scorer() used with query_encoded=False, but query_embs column present in input. Should you use query_encoded=True?\n",
      "  warn(\"index_scorer() used with query_encoded=False, but query_embs column present in input. Should you use query_encoded=True?\")\n",
      "/home/stu4/s6/rk1668/miniconda3/envs/ir/lib/python3.11/site-packages/pyterrier_colbert/ranking.py:735: UserWarning: index_scorer() used with query_encoded=False, but query_embs column present in input. Should you use query_encoded=True?\n",
      "  warn(\"index_scorer() used with query_encoded=False, but query_embs column present in input. Should you use query_encoded=True?\")\n",
      "/home/stu4/s6/rk1668/miniconda3/envs/ir/lib/python3.11/site-packages/pyterrier_colbert/ranking.py:735: UserWarning: index_scorer() used with query_encoded=False, but query_embs column present in input. Should you use query_encoded=True?\n",
      "  warn(\"index_scorer() used with query_encoded=False, but query_embs column present in input. Should you use query_encoded=True?\")\n",
      "/home/stu4/s6/rk1668/miniconda3/envs/ir/lib/python3.11/site-packages/pyterrier_colbert/ranking.py:735: UserWarning: index_scorer() used with query_encoded=False, but query_embs column present in input. Should you use query_encoded=True?\n",
      "  warn(\"index_scorer() used with query_encoded=False, but query_embs column present in input. Should you use query_encoded=True?\")\n",
      "/home/stu4/s6/rk1668/miniconda3/envs/ir/lib/python3.11/site-packages/pyterrier_colbert/ranking.py:735: UserWarning: index_scorer() used with query_encoded=False, but query_embs column present in input. Should you use query_encoded=True?\n",
      "  warn(\"index_scorer() used with query_encoded=False, but query_embs column present in input. Should you use query_encoded=True?\")\n",
      "/home/stu4/s6/rk1668/miniconda3/envs/ir/lib/python3.11/site-packages/pyterrier_colbert/ranking.py:735: UserWarning: index_scorer() used with query_encoded=False, but query_embs column present in input. Should you use query_encoded=True?\n",
      "  warn(\"index_scorer() used with query_encoded=False, but query_embs column present in input. Should you use query_encoded=True?\")\n",
      "/home/stu4/s6/rk1668/miniconda3/envs/ir/lib/python3.11/site-packages/pyterrier_colbert/ranking.py:735: UserWarning: index_scorer() used with query_encoded=False, but query_embs column present in input. Should you use query_encoded=True?\n",
      "  warn(\"index_scorer() used with query_encoded=False, but query_embs column present in input. Should you use query_encoded=True?\")\n",
      "/home/stu4/s6/rk1668/miniconda3/envs/ir/lib/python3.11/site-packages/pyterrier_colbert/ranking.py:735: UserWarning: index_scorer() used with query_encoded=False, but query_embs column present in input. Should you use query_encoded=True?\n",
      "  warn(\"index_scorer() used with query_encoded=False, but query_embs column present in input. Should you use query_encoded=True?\")\n",
      "/home/stu4/s6/rk1668/miniconda3/envs/ir/lib/python3.11/site-packages/pyterrier_colbert/ranking.py:735: UserWarning: index_scorer() used with query_encoded=False, but query_embs column present in input. Should you use query_encoded=True?\n",
      "  warn(\"index_scorer() used with query_encoded=False, but query_embs column present in input. Should you use query_encoded=True?\")\n",
      "/home/stu4/s6/rk1668/miniconda3/envs/ir/lib/python3.11/site-packages/pyterrier_colbert/ranking.py:735: UserWarning: index_scorer() used with query_encoded=False, but query_embs column present in input. Should you use query_encoded=True?\n",
      "  warn(\"index_scorer() used with query_encoded=False, but query_embs column present in input. Should you use query_encoded=True?\")\n",
      "/home/stu4/s6/rk1668/miniconda3/envs/ir/lib/python3.11/site-packages/pyterrier_colbert/ranking.py:735: UserWarning: index_scorer() used with query_encoded=False, but query_embs column present in input. Should you use query_encoded=True?\n",
      "  warn(\"index_scorer() used with query_encoded=False, but query_embs column present in input. Should you use query_encoded=True?\")\n",
      "/home/stu4/s6/rk1668/miniconda3/envs/ir/lib/python3.11/site-packages/pyterrier_colbert/ranking.py:735: UserWarning: index_scorer() used with query_encoded=False, but query_embs column present in input. Should you use query_encoded=True?\n",
      "  warn(\"index_scorer() used with query_encoded=False, but query_embs column present in input. Should you use query_encoded=True?\")\n",
      "/home/stu4/s6/rk1668/miniconda3/envs/ir/lib/python3.11/site-packages/pyterrier_colbert/ranking.py:735: UserWarning: index_scorer() used with query_encoded=False, but query_embs column present in input. Should you use query_encoded=True?\n",
      "  warn(\"index_scorer() used with query_encoded=False, but query_embs column present in input. Should you use query_encoded=True?\")\n",
      "/home/stu4/s6/rk1668/miniconda3/envs/ir/lib/python3.11/site-packages/pyterrier_colbert/ranking.py:735: UserWarning: index_scorer() used with query_encoded=False, but query_embs column present in input. Should you use query_encoded=True?\n",
      "  warn(\"index_scorer() used with query_encoded=False, but query_embs column present in input. Should you use query_encoded=True?\")\n",
      "/home/stu4/s6/rk1668/miniconda3/envs/ir/lib/python3.11/site-packages/pyterrier_colbert/ranking.py:735: UserWarning: index_scorer() used with query_encoded=False, but query_embs column present in input. Should you use query_encoded=True?\n",
      "  warn(\"index_scorer() used with query_encoded=False, but query_embs column present in input. Should you use query_encoded=True?\")\n",
      "/home/stu4/s6/rk1668/miniconda3/envs/ir/lib/python3.11/site-packages/pyterrier_colbert/ranking.py:735: UserWarning: index_scorer() used with query_encoded=False, but query_embs column present in input. Should you use query_encoded=True?\n",
      "  warn(\"index_scorer() used with query_encoded=False, but query_embs column present in input. Should you use query_encoded=True?\")\n",
      "/home/stu4/s6/rk1668/miniconda3/envs/ir/lib/python3.11/site-packages/pyterrier_colbert/ranking.py:735: UserWarning: index_scorer() used with query_encoded=False, but query_embs column present in input. Should you use query_encoded=True?\n",
      "  warn(\"index_scorer() used with query_encoded=False, but query_embs column present in input. Should you use query_encoded=True?\")\n",
      "/home/stu4/s6/rk1668/miniconda3/envs/ir/lib/python3.11/site-packages/pyterrier_colbert/ranking.py:735: UserWarning: index_scorer() used with query_encoded=False, but query_embs column present in input. Should you use query_encoded=True?\n",
      "  warn(\"index_scorer() used with query_encoded=False, but query_embs column present in input. Should you use query_encoded=True?\")\n",
      "/home/stu4/s6/rk1668/miniconda3/envs/ir/lib/python3.11/site-packages/pyterrier_colbert/ranking.py:735: UserWarning: index_scorer() used with query_encoded=False, but query_embs column present in input. Should you use query_encoded=True?\n",
      "  warn(\"index_scorer() used with query_encoded=False, but query_embs column present in input. Should you use query_encoded=True?\")\n",
      "/home/stu4/s6/rk1668/miniconda3/envs/ir/lib/python3.11/site-packages/pyterrier_colbert/ranking.py:735: UserWarning: index_scorer() used with query_encoded=False, but query_embs column present in input. Should you use query_encoded=True?\n",
      "  warn(\"index_scorer() used with query_encoded=False, but query_embs column present in input. Should you use query_encoded=True?\")\n",
      "/home/stu4/s6/rk1668/miniconda3/envs/ir/lib/python3.11/site-packages/pyterrier_colbert/ranking.py:735: UserWarning: index_scorer() used with query_encoded=False, but query_embs column present in input. Should you use query_encoded=True?\n",
      "  warn(\"index_scorer() used with query_encoded=False, but query_embs column present in input. Should you use query_encoded=True?\")\n",
      "/home/stu4/s6/rk1668/miniconda3/envs/ir/lib/python3.11/site-packages/pyterrier_colbert/ranking.py:735: UserWarning: index_scorer() used with query_encoded=False, but query_embs column present in input. Should you use query_encoded=True?\n",
      "  warn(\"index_scorer() used with query_encoded=False, but query_embs column present in input. Should you use query_encoded=True?\")\n",
      "/home/stu4/s6/rk1668/miniconda3/envs/ir/lib/python3.11/site-packages/pyterrier_colbert/ranking.py:735: UserWarning: index_scorer() used with query_encoded=False, but query_embs column present in input. Should you use query_encoded=True?\n",
      "  warn(\"index_scorer() used with query_encoded=False, but query_embs column present in input. Should you use query_encoded=True?\")\n",
      "/home/stu4/s6/rk1668/miniconda3/envs/ir/lib/python3.11/site-packages/pyterrier_colbert/ranking.py:735: UserWarning: index_scorer() used with query_encoded=False, but query_embs column present in input. Should you use query_encoded=True?\n",
      "  warn(\"index_scorer() used with query_encoded=False, but query_embs column present in input. Should you use query_encoded=True?\")\n",
      "/home/stu4/s6/rk1668/miniconda3/envs/ir/lib/python3.11/site-packages/pyterrier_colbert/ranking.py:735: UserWarning: index_scorer() used with query_encoded=False, but query_embs column present in input. Should you use query_encoded=True?\n",
      "  warn(\"index_scorer() used with query_encoded=False, but query_embs column present in input. Should you use query_encoded=True?\")\n",
      "/home/stu4/s6/rk1668/miniconda3/envs/ir/lib/python3.11/site-packages/pyterrier_colbert/ranking.py:735: UserWarning: index_scorer() used with query_encoded=False, but query_embs column present in input. Should you use query_encoded=True?\n",
      "  warn(\"index_scorer() used with query_encoded=False, but query_embs column present in input. Should you use query_encoded=True?\")\n",
      "/home/stu4/s6/rk1668/miniconda3/envs/ir/lib/python3.11/site-packages/pyterrier_colbert/ranking.py:735: UserWarning: index_scorer() used with query_encoded=False, but query_embs column present in input. Should you use query_encoded=True?\n",
      "  warn(\"index_scorer() used with query_encoded=False, but query_embs column present in input. Should you use query_encoded=True?\")\n",
      "/home/stu4/s6/rk1668/miniconda3/envs/ir/lib/python3.11/site-packages/pyterrier_colbert/ranking.py:735: UserWarning: index_scorer() used with query_encoded=False, but query_embs column present in input. Should you use query_encoded=True?\n",
      "  warn(\"index_scorer() used with query_encoded=False, but query_embs column present in input. Should you use query_encoded=True?\")\n",
      "/home/stu4/s6/rk1668/miniconda3/envs/ir/lib/python3.11/site-packages/pyterrier_colbert/ranking.py:735: UserWarning: index_scorer() used with query_encoded=False, but query_embs column present in input. Should you use query_encoded=True?\n",
      "  warn(\"index_scorer() used with query_encoded=False, but query_embs column present in input. Should you use query_encoded=True?\")\n",
      "/home/stu4/s6/rk1668/miniconda3/envs/ir/lib/python3.11/site-packages/pyterrier_colbert/ranking.py:735: UserWarning: index_scorer() used with query_encoded=False, but query_embs column present in input. Should you use query_encoded=True?\n",
      "  warn(\"index_scorer() used with query_encoded=False, but query_embs column present in input. Should you use query_encoded=True?\")\n",
      "/home/stu4/s6/rk1668/miniconda3/envs/ir/lib/python3.11/site-packages/pyterrier_colbert/ranking.py:735: UserWarning: index_scorer() used with query_encoded=False, but query_embs column present in input. Should you use query_encoded=True?\n",
      "  warn(\"index_scorer() used with query_encoded=False, but query_embs column present in input. Should you use query_encoded=True?\")\n",
      "/home/stu4/s6/rk1668/miniconda3/envs/ir/lib/python3.11/site-packages/pyterrier_colbert/ranking.py:735: UserWarning: index_scorer() used with query_encoded=False, but query_embs column present in input. Should you use query_encoded=True?\n",
      "  warn(\"index_scorer() used with query_encoded=False, but query_embs column present in input. Should you use query_encoded=True?\")\n",
      "/home/stu4/s6/rk1668/miniconda3/envs/ir/lib/python3.11/site-packages/pyterrier_colbert/ranking.py:735: UserWarning: index_scorer() used with query_encoded=False, but query_embs column present in input. Should you use query_encoded=True?\n",
      "  warn(\"index_scorer() used with query_encoded=False, but query_embs column present in input. Should you use query_encoded=True?\")\n",
      "/home/stu4/s6/rk1668/miniconda3/envs/ir/lib/python3.11/site-packages/pyterrier_colbert/ranking.py:735: UserWarning: index_scorer() used with query_encoded=False, but query_embs column present in input. Should you use query_encoded=True?\n",
      "  warn(\"index_scorer() used with query_encoded=False, but query_embs column present in input. Should you use query_encoded=True?\")\n",
      "/home/stu4/s6/rk1668/miniconda3/envs/ir/lib/python3.11/site-packages/pyterrier_colbert/ranking.py:735: UserWarning: index_scorer() used with query_encoded=False, but query_embs column present in input. Should you use query_encoded=True?\n",
      "  warn(\"index_scorer() used with query_encoded=False, but query_embs column present in input. Should you use query_encoded=True?\")\n",
      "/home/stu4/s6/rk1668/miniconda3/envs/ir/lib/python3.11/site-packages/pyterrier_colbert/ranking.py:735: UserWarning: index_scorer() used with query_encoded=False, but query_embs column present in input. Should you use query_encoded=True?\n",
      "  warn(\"index_scorer() used with query_encoded=False, but query_embs column present in input. Should you use query_encoded=True?\")\n",
      "/home/stu4/s6/rk1668/miniconda3/envs/ir/lib/python3.11/site-packages/pyterrier_colbert/ranking.py:735: UserWarning: index_scorer() used with query_encoded=False, but query_embs column present in input. Should you use query_encoded=True?\n",
      "  warn(\"index_scorer() used with query_encoded=False, but query_embs column present in input. Should you use query_encoded=True?\")\n",
      "/home/stu4/s6/rk1668/miniconda3/envs/ir/lib/python3.11/site-packages/pyterrier_colbert/ranking.py:735: UserWarning: index_scorer() used with query_encoded=False, but query_embs column present in input. Should you use query_encoded=True?\n",
      "  warn(\"index_scorer() used with query_encoded=False, but query_embs column present in input. Should you use query_encoded=True?\")\n",
      "/home/stu4/s6/rk1668/miniconda3/envs/ir/lib/python3.11/site-packages/pyterrier_colbert/ranking.py:735: UserWarning: index_scorer() used with query_encoded=False, but query_embs column present in input. Should you use query_encoded=True?\n",
      "  warn(\"index_scorer() used with query_encoded=False, but query_embs column present in input. Should you use query_encoded=True?\")\n",
      "/home/stu4/s6/rk1668/miniconda3/envs/ir/lib/python3.11/site-packages/pyterrier_colbert/ranking.py:735: UserWarning: index_scorer() used with query_encoded=False, but query_embs column present in input. Should you use query_encoded=True?\n",
      "  warn(\"index_scorer() used with query_encoded=False, but query_embs column present in input. Should you use query_encoded=True?\")\n",
      "/home/stu4/s6/rk1668/miniconda3/envs/ir/lib/python3.11/site-packages/pyterrier_colbert/ranking.py:735: UserWarning: index_scorer() used with query_encoded=False, but query_embs column present in input. Should you use query_encoded=True?\n",
      "  warn(\"index_scorer() used with query_encoded=False, but query_embs column present in input. Should you use query_encoded=True?\")\n",
      "/home/stu4/s6/rk1668/miniconda3/envs/ir/lib/python3.11/site-packages/pyterrier_colbert/ranking.py:735: UserWarning: index_scorer() used with query_encoded=False, but query_embs column present in input. Should you use query_encoded=True?\n",
      "  warn(\"index_scorer() used with query_encoded=False, but query_embs column present in input. Should you use query_encoded=True?\")\n",
      "/home/stu4/s6/rk1668/miniconda3/envs/ir/lib/python3.11/site-packages/pyterrier_colbert/ranking.py:735: UserWarning: index_scorer() used with query_encoded=False, but query_embs column present in input. Should you use query_encoded=True?\n",
      "  warn(\"index_scorer() used with query_encoded=False, but query_embs column present in input. Should you use query_encoded=True?\")\n",
      "/home/stu4/s6/rk1668/miniconda3/envs/ir/lib/python3.11/site-packages/pyterrier_colbert/ranking.py:735: UserWarning: index_scorer() used with query_encoded=False, but query_embs column present in input. Should you use query_encoded=True?\n",
      "  warn(\"index_scorer() used with query_encoded=False, but query_embs column present in input. Should you use query_encoded=True?\")\n",
      "/home/stu4/s6/rk1668/miniconda3/envs/ir/lib/python3.11/site-packages/pyterrier_colbert/ranking.py:735: UserWarning: index_scorer() used with query_encoded=False, but query_embs column present in input. Should you use query_encoded=True?\n",
      "  warn(\"index_scorer() used with query_encoded=False, but query_embs column present in input. Should you use query_encoded=True?\")\n",
      "/home/stu4/s6/rk1668/miniconda3/envs/ir/lib/python3.11/site-packages/pyterrier_colbert/ranking.py:735: UserWarning: index_scorer() used with query_encoded=False, but query_embs column present in input. Should you use query_encoded=True?\n",
      "  warn(\"index_scorer() used with query_encoded=False, but query_embs column present in input. Should you use query_encoded=True?\")\n",
      "/home/stu4/s6/rk1668/miniconda3/envs/ir/lib/python3.11/site-packages/pyterrier_colbert/ranking.py:735: UserWarning: index_scorer() used with query_encoded=False, but query_embs column present in input. Should you use query_encoded=True?\n",
      "  warn(\"index_scorer() used with query_encoded=False, but query_embs column present in input. Should you use query_encoded=True?\")\n",
      "/home/stu4/s6/rk1668/miniconda3/envs/ir/lib/python3.11/site-packages/pyterrier_colbert/ranking.py:735: UserWarning: index_scorer() used with query_encoded=False, but query_embs column present in input. Should you use query_encoded=True?\n",
      "  warn(\"index_scorer() used with query_encoded=False, but query_embs column present in input. Should you use query_encoded=True?\")\n",
      "/home/stu4/s6/rk1668/miniconda3/envs/ir/lib/python3.11/site-packages/pyterrier_colbert/ranking.py:735: UserWarning: index_scorer() used with query_encoded=False, but query_embs column present in input. Should you use query_encoded=True?\n",
      "  warn(\"index_scorer() used with query_encoded=False, but query_embs column present in input. Should you use query_encoded=True?\")\n",
      "/home/stu4/s6/rk1668/miniconda3/envs/ir/lib/python3.11/site-packages/pyterrier_colbert/ranking.py:735: UserWarning: index_scorer() used with query_encoded=False, but query_embs column present in input. Should you use query_encoded=True?\n",
      "  warn(\"index_scorer() used with query_encoded=False, but query_embs column present in input. Should you use query_encoded=True?\")\n",
      "/home/stu4/s6/rk1668/miniconda3/envs/ir/lib/python3.11/site-packages/pyterrier_colbert/ranking.py:735: UserWarning: index_scorer() used with query_encoded=False, but query_embs column present in input. Should you use query_encoded=True?\n",
      "  warn(\"index_scorer() used with query_encoded=False, but query_embs column present in input. Should you use query_encoded=True?\")\n",
      "/home/stu4/s6/rk1668/miniconda3/envs/ir/lib/python3.11/site-packages/pyterrier_colbert/ranking.py:735: UserWarning: index_scorer() used with query_encoded=False, but query_embs column present in input. Should you use query_encoded=True?\n",
      "  warn(\"index_scorer() used with query_encoded=False, but query_embs column present in input. Should you use query_encoded=True?\")\n",
      "/home/stu4/s6/rk1668/miniconda3/envs/ir/lib/python3.11/site-packages/pyterrier_colbert/ranking.py:735: UserWarning: index_scorer() used with query_encoded=False, but query_embs column present in input. Should you use query_encoded=True?\n",
      "  warn(\"index_scorer() used with query_encoded=False, but query_embs column present in input. Should you use query_encoded=True?\")\n",
      "/home/stu4/s6/rk1668/miniconda3/envs/ir/lib/python3.11/site-packages/pyterrier_colbert/ranking.py:735: UserWarning: index_scorer() used with query_encoded=False, but query_embs column present in input. Should you use query_encoded=True?\n",
      "  warn(\"index_scorer() used with query_encoded=False, but query_embs column present in input. Should you use query_encoded=True?\")\n",
      "/home/stu4/s6/rk1668/miniconda3/envs/ir/lib/python3.11/site-packages/pyterrier_colbert/ranking.py:735: UserWarning: index_scorer() used with query_encoded=False, but query_embs column present in input. Should you use query_encoded=True?\n",
      "  warn(\"index_scorer() used with query_encoded=False, but query_embs column present in input. Should you use query_encoded=True?\")\n",
      "/home/stu4/s6/rk1668/miniconda3/envs/ir/lib/python3.11/site-packages/pyterrier_colbert/ranking.py:735: UserWarning: index_scorer() used with query_encoded=False, but query_embs column present in input. Should you use query_encoded=True?\n",
      "  warn(\"index_scorer() used with query_encoded=False, but query_embs column present in input. Should you use query_encoded=True?\")\n",
      "/home/stu4/s6/rk1668/miniconda3/envs/ir/lib/python3.11/site-packages/pyterrier_colbert/ranking.py:735: UserWarning: index_scorer() used with query_encoded=False, but query_embs column present in input. Should you use query_encoded=True?\n",
      "  warn(\"index_scorer() used with query_encoded=False, but query_embs column present in input. Should you use query_encoded=True?\")\n",
      "/home/stu4/s6/rk1668/miniconda3/envs/ir/lib/python3.11/site-packages/pyterrier_colbert/ranking.py:735: UserWarning: index_scorer() used with query_encoded=False, but query_embs column present in input. Should you use query_encoded=True?\n",
      "  warn(\"index_scorer() used with query_encoded=False, but query_embs column present in input. Should you use query_encoded=True?\")\n",
      "/home/stu4/s6/rk1668/miniconda3/envs/ir/lib/python3.11/site-packages/pyterrier_colbert/ranking.py:735: UserWarning: index_scorer() used with query_encoded=False, but query_embs column present in input. Should you use query_encoded=True?\n",
      "  warn(\"index_scorer() used with query_encoded=False, but query_embs column present in input. Should you use query_encoded=True?\")\n",
      "/home/stu4/s6/rk1668/miniconda3/envs/ir/lib/python3.11/site-packages/pyterrier_colbert/ranking.py:735: UserWarning: index_scorer() used with query_encoded=False, but query_embs column present in input. Should you use query_encoded=True?\n",
      "  warn(\"index_scorer() used with query_encoded=False, but query_embs column present in input. Should you use query_encoded=True?\")\n",
      "/home/stu4/s6/rk1668/miniconda3/envs/ir/lib/python3.11/site-packages/pyterrier_colbert/ranking.py:735: UserWarning: index_scorer() used with query_encoded=False, but query_embs column present in input. Should you use query_encoded=True?\n",
      "  warn(\"index_scorer() used with query_encoded=False, but query_embs column present in input. Should you use query_encoded=True?\")\n",
      "/home/stu4/s6/rk1668/miniconda3/envs/ir/lib/python3.11/site-packages/pyterrier_colbert/ranking.py:735: UserWarning: index_scorer() used with query_encoded=False, but query_embs column present in input. Should you use query_encoded=True?\n",
      "  warn(\"index_scorer() used with query_encoded=False, but query_embs column present in input. Should you use query_encoded=True?\")\n",
      "/home/stu4/s6/rk1668/miniconda3/envs/ir/lib/python3.11/site-packages/pyterrier_colbert/ranking.py:735: UserWarning: index_scorer() used with query_encoded=False, but query_embs column present in input. Should you use query_encoded=True?\n",
      "  warn(\"index_scorer() used with query_encoded=False, but query_embs column present in input. Should you use query_encoded=True?\")\n",
      "/home/stu4/s6/rk1668/miniconda3/envs/ir/lib/python3.11/site-packages/pyterrier_colbert/ranking.py:735: UserWarning: index_scorer() used with query_encoded=False, but query_embs column present in input. Should you use query_encoded=True?\n",
      "  warn(\"index_scorer() used with query_encoded=False, but query_embs column present in input. Should you use query_encoded=True?\")\n",
      "/home/stu4/s6/rk1668/miniconda3/envs/ir/lib/python3.11/site-packages/pyterrier_colbert/ranking.py:735: UserWarning: index_scorer() used with query_encoded=False, but query_embs column present in input. Should you use query_encoded=True?\n",
      "  warn(\"index_scorer() used with query_encoded=False, but query_embs column present in input. Should you use query_encoded=True?\")\n",
      "/home/stu4/s6/rk1668/miniconda3/envs/ir/lib/python3.11/site-packages/pyterrier_colbert/ranking.py:735: UserWarning: index_scorer() used with query_encoded=False, but query_embs column present in input. Should you use query_encoded=True?\n",
      "  warn(\"index_scorer() used with query_encoded=False, but query_embs column present in input. Should you use query_encoded=True?\")\n",
      "/home/stu4/s6/rk1668/miniconda3/envs/ir/lib/python3.11/site-packages/pyterrier_colbert/ranking.py:735: UserWarning: index_scorer() used with query_encoded=False, but query_embs column present in input. Should you use query_encoded=True?\n",
      "  warn(\"index_scorer() used with query_encoded=False, but query_embs column present in input. Should you use query_encoded=True?\")\n",
      "/home/stu4/s6/rk1668/miniconda3/envs/ir/lib/python3.11/site-packages/pyterrier_colbert/ranking.py:735: UserWarning: index_scorer() used with query_encoded=False, but query_embs column present in input. Should you use query_encoded=True?\n",
      "  warn(\"index_scorer() used with query_encoded=False, but query_embs column present in input. Should you use query_encoded=True?\")\n",
      "/home/stu4/s6/rk1668/miniconda3/envs/ir/lib/python3.11/site-packages/pyterrier_colbert/ranking.py:735: UserWarning: index_scorer() used with query_encoded=False, but query_embs column present in input. Should you use query_encoded=True?\n",
      "  warn(\"index_scorer() used with query_encoded=False, but query_embs column present in input. Should you use query_encoded=True?\")\n",
      "/home/stu4/s6/rk1668/miniconda3/envs/ir/lib/python3.11/site-packages/pyterrier_colbert/ranking.py:735: UserWarning: index_scorer() used with query_encoded=False, but query_embs column present in input. Should you use query_encoded=True?\n",
      "  warn(\"index_scorer() used with query_encoded=False, but query_embs column present in input. Should you use query_encoded=True?\")\n",
      "/home/stu4/s6/rk1668/miniconda3/envs/ir/lib/python3.11/site-packages/pyterrier_colbert/ranking.py:735: UserWarning: index_scorer() used with query_encoded=False, but query_embs column present in input. Should you use query_encoded=True?\n",
      "  warn(\"index_scorer() used with query_encoded=False, but query_embs column present in input. Should you use query_encoded=True?\")\n",
      "/home/stu4/s6/rk1668/miniconda3/envs/ir/lib/python3.11/site-packages/pyterrier_colbert/ranking.py:735: UserWarning: index_scorer() used with query_encoded=False, but query_embs column present in input. Should you use query_encoded=True?\n",
      "  warn(\"index_scorer() used with query_encoded=False, but query_embs column present in input. Should you use query_encoded=True?\")\n",
      "/home/stu4/s6/rk1668/miniconda3/envs/ir/lib/python3.11/site-packages/pyterrier_colbert/ranking.py:735: UserWarning: index_scorer() used with query_encoded=False, but query_embs column present in input. Should you use query_encoded=True?\n",
      "  warn(\"index_scorer() used with query_encoded=False, but query_embs column present in input. Should you use query_encoded=True?\")\n",
      "/home/stu4/s6/rk1668/miniconda3/envs/ir/lib/python3.11/site-packages/pyterrier_colbert/ranking.py:735: UserWarning: index_scorer() used with query_encoded=False, but query_embs column present in input. Should you use query_encoded=True?\n",
      "  warn(\"index_scorer() used with query_encoded=False, but query_embs column present in input. Should you use query_encoded=True?\")\n",
      "/home/stu4/s6/rk1668/miniconda3/envs/ir/lib/python3.11/site-packages/pyterrier_colbert/ranking.py:735: UserWarning: index_scorer() used with query_encoded=False, but query_embs column present in input. Should you use query_encoded=True?\n",
      "  warn(\"index_scorer() used with query_encoded=False, but query_embs column present in input. Should you use query_encoded=True?\")\n",
      "/home/stu4/s6/rk1668/miniconda3/envs/ir/lib/python3.11/site-packages/pyterrier_colbert/ranking.py:735: UserWarning: index_scorer() used with query_encoded=False, but query_embs column present in input. Should you use query_encoded=True?\n",
      "  warn(\"index_scorer() used with query_encoded=False, but query_embs column present in input. Should you use query_encoded=True?\")\n",
      "/home/stu4/s6/rk1668/miniconda3/envs/ir/lib/python3.11/site-packages/pyterrier_colbert/ranking.py:735: UserWarning: index_scorer() used with query_encoded=False, but query_embs column present in input. Should you use query_encoded=True?\n",
      "  warn(\"index_scorer() used with query_encoded=False, but query_embs column present in input. Should you use query_encoded=True?\")\n",
      "/home/stu4/s6/rk1668/miniconda3/envs/ir/lib/python3.11/site-packages/pyterrier_colbert/ranking.py:735: UserWarning: index_scorer() used with query_encoded=False, but query_embs column present in input. Should you use query_encoded=True?\n",
      "  warn(\"index_scorer() used with query_encoded=False, but query_embs column present in input. Should you use query_encoded=True?\")\n",
      "/home/stu4/s6/rk1668/miniconda3/envs/ir/lib/python3.11/site-packages/pyterrier_colbert/ranking.py:735: UserWarning: index_scorer() used with query_encoded=False, but query_embs column present in input. Should you use query_encoded=True?\n",
      "  warn(\"index_scorer() used with query_encoded=False, but query_embs column present in input. Should you use query_encoded=True?\")\n",
      "/home/stu4/s6/rk1668/miniconda3/envs/ir/lib/python3.11/site-packages/pyterrier_colbert/ranking.py:735: UserWarning: index_scorer() used with query_encoded=False, but query_embs column present in input. Should you use query_encoded=True?\n",
      "  warn(\"index_scorer() used with query_encoded=False, but query_embs column present in input. Should you use query_encoded=True?\")\n",
      "/home/stu4/s6/rk1668/miniconda3/envs/ir/lib/python3.11/site-packages/pyterrier_colbert/ranking.py:735: UserWarning: index_scorer() used with query_encoded=False, but query_embs column present in input. Should you use query_encoded=True?\n",
      "  warn(\"index_scorer() used with query_encoded=False, but query_embs column present in input. Should you use query_encoded=True?\")\n",
      "/home/stu4/s6/rk1668/miniconda3/envs/ir/lib/python3.11/site-packages/pyterrier_colbert/ranking.py:735: UserWarning: index_scorer() used with query_encoded=False, but query_embs column present in input. Should you use query_encoded=True?\n",
      "  warn(\"index_scorer() used with query_encoded=False, but query_embs column present in input. Should you use query_encoded=True?\")\n",
      "/home/stu4/s6/rk1668/miniconda3/envs/ir/lib/python3.11/site-packages/pyterrier_colbert/ranking.py:735: UserWarning: index_scorer() used with query_encoded=False, but query_embs column present in input. Should you use query_encoded=True?\n",
      "  warn(\"index_scorer() used with query_encoded=False, but query_embs column present in input. Should you use query_encoded=True?\")\n",
      "/home/stu4/s6/rk1668/miniconda3/envs/ir/lib/python3.11/site-packages/pyterrier_colbert/ranking.py:735: UserWarning: index_scorer() used with query_encoded=False, but query_embs column present in input. Should you use query_encoded=True?\n",
      "  warn(\"index_scorer() used with query_encoded=False, but query_embs column present in input. Should you use query_encoded=True?\")\n",
      "/home/stu4/s6/rk1668/miniconda3/envs/ir/lib/python3.11/site-packages/pyterrier_colbert/ranking.py:735: UserWarning: index_scorer() used with query_encoded=False, but query_embs column present in input. Should you use query_encoded=True?\n",
      "  warn(\"index_scorer() used with query_encoded=False, but query_embs column present in input. Should you use query_encoded=True?\")\n",
      "/home/stu4/s6/rk1668/miniconda3/envs/ir/lib/python3.11/site-packages/pyterrier_colbert/ranking.py:735: UserWarning: index_scorer() used with query_encoded=False, but query_embs column present in input. Should you use query_encoded=True?\n",
      "  warn(\"index_scorer() used with query_encoded=False, but query_embs column present in input. Should you use query_encoded=True?\")\n",
      "/home/stu4/s6/rk1668/miniconda3/envs/ir/lib/python3.11/site-packages/pyterrier_colbert/ranking.py:735: UserWarning: index_scorer() used with query_encoded=False, but query_embs column present in input. Should you use query_encoded=True?\n",
      "  warn(\"index_scorer() used with query_encoded=False, but query_embs column present in input. Should you use query_encoded=True?\")\n",
      "/home/stu4/s6/rk1668/miniconda3/envs/ir/lib/python3.11/site-packages/pyterrier_colbert/ranking.py:735: UserWarning: index_scorer() used with query_encoded=False, but query_embs column present in input. Should you use query_encoded=True?\n",
      "  warn(\"index_scorer() used with query_encoded=False, but query_embs column present in input. Should you use query_encoded=True?\")\n",
      "/home/stu4/s6/rk1668/miniconda3/envs/ir/lib/python3.11/site-packages/pyterrier_colbert/ranking.py:735: UserWarning: index_scorer() used with query_encoded=False, but query_embs column present in input. Should you use query_encoded=True?\n",
      "  warn(\"index_scorer() used with query_encoded=False, but query_embs column present in input. Should you use query_encoded=True?\")\n",
      "/home/stu4/s6/rk1668/miniconda3/envs/ir/lib/python3.11/site-packages/pyterrier_colbert/ranking.py:735: UserWarning: index_scorer() used with query_encoded=False, but query_embs column present in input. Should you use query_encoded=True?\n",
      "  warn(\"index_scorer() used with query_encoded=False, but query_embs column present in input. Should you use query_encoded=True?\")\n",
      "/home/stu4/s6/rk1668/miniconda3/envs/ir/lib/python3.11/site-packages/pyterrier_colbert/ranking.py:735: UserWarning: index_scorer() used with query_encoded=False, but query_embs column present in input. Should you use query_encoded=True?\n",
      "  warn(\"index_scorer() used with query_encoded=False, but query_embs column present in input. Should you use query_encoded=True?\")\n",
      "/home/stu4/s6/rk1668/miniconda3/envs/ir/lib/python3.11/site-packages/pyterrier_colbert/ranking.py:735: UserWarning: index_scorer() used with query_encoded=False, but query_embs column present in input. Should you use query_encoded=True?\n",
      "  warn(\"index_scorer() used with query_encoded=False, but query_embs column present in input. Should you use query_encoded=True?\")\n",
      "/home/stu4/s6/rk1668/miniconda3/envs/ir/lib/python3.11/site-packages/pyterrier_colbert/ranking.py:735: UserWarning: index_scorer() used with query_encoded=False, but query_embs column present in input. Should you use query_encoded=True?\n",
      "  warn(\"index_scorer() used with query_encoded=False, but query_embs column present in input. Should you use query_encoded=True?\")\n",
      "/home/stu4/s6/rk1668/miniconda3/envs/ir/lib/python3.11/site-packages/pyterrier_colbert/ranking.py:735: UserWarning: index_scorer() used with query_encoded=False, but query_embs column present in input. Should you use query_encoded=True?\n",
      "  warn(\"index_scorer() used with query_encoded=False, but query_embs column present in input. Should you use query_encoded=True?\")\n",
      "/home/stu4/s6/rk1668/miniconda3/envs/ir/lib/python3.11/site-packages/pyterrier_colbert/ranking.py:735: UserWarning: index_scorer() used with query_encoded=False, but query_embs column present in input. Should you use query_encoded=True?\n",
      "  warn(\"index_scorer() used with query_encoded=False, but query_embs column present in input. Should you use query_encoded=True?\")\n",
      "/home/stu4/s6/rk1668/miniconda3/envs/ir/lib/python3.11/site-packages/pyterrier_colbert/ranking.py:735: UserWarning: index_scorer() used with query_encoded=False, but query_embs column present in input. Should you use query_encoded=True?\n",
      "  warn(\"index_scorer() used with query_encoded=False, but query_embs column present in input. Should you use query_encoded=True?\")\n",
      "/home/stu4/s6/rk1668/miniconda3/envs/ir/lib/python3.11/site-packages/pyterrier_colbert/ranking.py:735: UserWarning: index_scorer() used with query_encoded=False, but query_embs column present in input. Should you use query_encoded=True?\n",
      "  warn(\"index_scorer() used with query_encoded=False, but query_embs column present in input. Should you use query_encoded=True?\")\n",
      "/home/stu4/s6/rk1668/miniconda3/envs/ir/lib/python3.11/site-packages/pyterrier_colbert/ranking.py:735: UserWarning: index_scorer() used with query_encoded=False, but query_embs column present in input. Should you use query_encoded=True?\n",
      "  warn(\"index_scorer() used with query_encoded=False, but query_embs column present in input. Should you use query_encoded=True?\")\n",
      "/home/stu4/s6/rk1668/miniconda3/envs/ir/lib/python3.11/site-packages/pyterrier_colbert/ranking.py:735: UserWarning: index_scorer() used with query_encoded=False, but query_embs column present in input. Should you use query_encoded=True?\n",
      "  warn(\"index_scorer() used with query_encoded=False, but query_embs column present in input. Should you use query_encoded=True?\")\n",
      "/home/stu4/s6/rk1668/miniconda3/envs/ir/lib/python3.11/site-packages/pyterrier_colbert/ranking.py:735: UserWarning: index_scorer() used with query_encoded=False, but query_embs column present in input. Should you use query_encoded=True?\n",
      "  warn(\"index_scorer() used with query_encoded=False, but query_embs column present in input. Should you use query_encoded=True?\")\n",
      "/home/stu4/s6/rk1668/miniconda3/envs/ir/lib/python3.11/site-packages/pyterrier_colbert/ranking.py:735: UserWarning: index_scorer() used with query_encoded=False, but query_embs column present in input. Should you use query_encoded=True?\n",
      "  warn(\"index_scorer() used with query_encoded=False, but query_embs column present in input. Should you use query_encoded=True?\")\n",
      "/home/stu4/s6/rk1668/miniconda3/envs/ir/lib/python3.11/site-packages/pyterrier_colbert/ranking.py:735: UserWarning: index_scorer() used with query_encoded=False, but query_embs column present in input. Should you use query_encoded=True?\n",
      "  warn(\"index_scorer() used with query_encoded=False, but query_embs column present in input. Should you use query_encoded=True?\")\n",
      "/home/stu4/s6/rk1668/miniconda3/envs/ir/lib/python3.11/site-packages/pyterrier_colbert/ranking.py:735: UserWarning: index_scorer() used with query_encoded=False, but query_embs column present in input. Should you use query_encoded=True?\n",
      "  warn(\"index_scorer() used with query_encoded=False, but query_embs column present in input. Should you use query_encoded=True?\")\n",
      "/home/stu4/s6/rk1668/miniconda3/envs/ir/lib/python3.11/site-packages/pyterrier_colbert/ranking.py:735: UserWarning: index_scorer() used with query_encoded=False, but query_embs column present in input. Should you use query_encoded=True?\n",
      "  warn(\"index_scorer() used with query_encoded=False, but query_embs column present in input. Should you use query_encoded=True?\")\n",
      "/home/stu4/s6/rk1668/miniconda3/envs/ir/lib/python3.11/site-packages/pyterrier_colbert/ranking.py:735: UserWarning: index_scorer() used with query_encoded=False, but query_embs column present in input. Should you use query_encoded=True?\n",
      "  warn(\"index_scorer() used with query_encoded=False, but query_embs column present in input. Should you use query_encoded=True?\")\n",
      "/home/stu4/s6/rk1668/miniconda3/envs/ir/lib/python3.11/site-packages/pyterrier_colbert/ranking.py:735: UserWarning: index_scorer() used with query_encoded=False, but query_embs column present in input. Should you use query_encoded=True?\n",
      "  warn(\"index_scorer() used with query_encoded=False, but query_embs column present in input. Should you use query_encoded=True?\")\n",
      "/home/stu4/s6/rk1668/miniconda3/envs/ir/lib/python3.11/site-packages/pyterrier_colbert/ranking.py:735: UserWarning: index_scorer() used with query_encoded=False, but query_embs column present in input. Should you use query_encoded=True?\n",
      "  warn(\"index_scorer() used with query_encoded=False, but query_embs column present in input. Should you use query_encoded=True?\")\n",
      "/home/stu4/s6/rk1668/miniconda3/envs/ir/lib/python3.11/site-packages/pyterrier_colbert/ranking.py:735: UserWarning: index_scorer() used with query_encoded=False, but query_embs column present in input. Should you use query_encoded=True?\n",
      "  warn(\"index_scorer() used with query_encoded=False, but query_embs column present in input. Should you use query_encoded=True?\")\n",
      "/home/stu4/s6/rk1668/miniconda3/envs/ir/lib/python3.11/site-packages/pyterrier_colbert/ranking.py:735: UserWarning: index_scorer() used with query_encoded=False, but query_embs column present in input. Should you use query_encoded=True?\n",
      "  warn(\"index_scorer() used with query_encoded=False, but query_embs column present in input. Should you use query_encoded=True?\")\n",
      "/home/stu4/s6/rk1668/miniconda3/envs/ir/lib/python3.11/site-packages/pyterrier_colbert/ranking.py:735: UserWarning: index_scorer() used with query_encoded=False, but query_embs column present in input. Should you use query_encoded=True?\n",
      "  warn(\"index_scorer() used with query_encoded=False, but query_embs column present in input. Should you use query_encoded=True?\")\n",
      "/home/stu4/s6/rk1668/miniconda3/envs/ir/lib/python3.11/site-packages/pyterrier_colbert/ranking.py:735: UserWarning: index_scorer() used with query_encoded=False, but query_embs column present in input. Should you use query_encoded=True?\n",
      "  warn(\"index_scorer() used with query_encoded=False, but query_embs column present in input. Should you use query_encoded=True?\")\n",
      "/home/stu4/s6/rk1668/miniconda3/envs/ir/lib/python3.11/site-packages/pyterrier_colbert/ranking.py:735: UserWarning: index_scorer() used with query_encoded=False, but query_embs column present in input. Should you use query_encoded=True?\n",
      "  warn(\"index_scorer() used with query_encoded=False, but query_embs column present in input. Should you use query_encoded=True?\")\n",
      "/home/stu4/s6/rk1668/miniconda3/envs/ir/lib/python3.11/site-packages/pyterrier_colbert/ranking.py:735: UserWarning: index_scorer() used with query_encoded=False, but query_embs column present in input. Should you use query_encoded=True?\n",
      "  warn(\"index_scorer() used with query_encoded=False, but query_embs column present in input. Should you use query_encoded=True?\")\n",
      "/home/stu4/s6/rk1668/miniconda3/envs/ir/lib/python3.11/site-packages/pyterrier_colbert/ranking.py:735: UserWarning: index_scorer() used with query_encoded=False, but query_embs column present in input. Should you use query_encoded=True?\n",
      "  warn(\"index_scorer() used with query_encoded=False, but query_embs column present in input. Should you use query_encoded=True?\")\n",
      "/home/stu4/s6/rk1668/miniconda3/envs/ir/lib/python3.11/site-packages/pyterrier_colbert/ranking.py:735: UserWarning: index_scorer() used with query_encoded=False, but query_embs column present in input. Should you use query_encoded=True?\n",
      "  warn(\"index_scorer() used with query_encoded=False, but query_embs column present in input. Should you use query_encoded=True?\")\n",
      "/home/stu4/s6/rk1668/miniconda3/envs/ir/lib/python3.11/site-packages/pyterrier_colbert/ranking.py:735: UserWarning: index_scorer() used with query_encoded=False, but query_embs column present in input. Should you use query_encoded=True?\n",
      "  warn(\"index_scorer() used with query_encoded=False, but query_embs column present in input. Should you use query_encoded=True?\")\n",
      "/home/stu4/s6/rk1668/miniconda3/envs/ir/lib/python3.11/site-packages/pyterrier_colbert/ranking.py:735: UserWarning: index_scorer() used with query_encoded=False, but query_embs column present in input. Should you use query_encoded=True?\n",
      "  warn(\"index_scorer() used with query_encoded=False, but query_embs column present in input. Should you use query_encoded=True?\")\n",
      "/home/stu4/s6/rk1668/miniconda3/envs/ir/lib/python3.11/site-packages/pyterrier_colbert/ranking.py:735: UserWarning: index_scorer() used with query_encoded=False, but query_embs column present in input. Should you use query_encoded=True?\n",
      "  warn(\"index_scorer() used with query_encoded=False, but query_embs column present in input. Should you use query_encoded=True?\")\n",
      "/home/stu4/s6/rk1668/miniconda3/envs/ir/lib/python3.11/site-packages/pyterrier_colbert/ranking.py:735: UserWarning: index_scorer() used with query_encoded=False, but query_embs column present in input. Should you use query_encoded=True?\n",
      "  warn(\"index_scorer() used with query_encoded=False, but query_embs column present in input. Should you use query_encoded=True?\")\n",
      "/home/stu4/s6/rk1668/miniconda3/envs/ir/lib/python3.11/site-packages/pyterrier_colbert/ranking.py:735: UserWarning: index_scorer() used with query_encoded=False, but query_embs column present in input. Should you use query_encoded=True?\n",
      "  warn(\"index_scorer() used with query_encoded=False, but query_embs column present in input. Should you use query_encoded=True?\")\n",
      "/home/stu4/s6/rk1668/miniconda3/envs/ir/lib/python3.11/site-packages/pyterrier_colbert/ranking.py:735: UserWarning: index_scorer() used with query_encoded=False, but query_embs column present in input. Should you use query_encoded=True?\n",
      "  warn(\"index_scorer() used with query_encoded=False, but query_embs column present in input. Should you use query_encoded=True?\")\n",
      "/home/stu4/s6/rk1668/miniconda3/envs/ir/lib/python3.11/site-packages/pyterrier_colbert/ranking.py:735: UserWarning: index_scorer() used with query_encoded=False, but query_embs column present in input. Should you use query_encoded=True?\n",
      "  warn(\"index_scorer() used with query_encoded=False, but query_embs column present in input. Should you use query_encoded=True?\")\n",
      "/home/stu4/s6/rk1668/miniconda3/envs/ir/lib/python3.11/site-packages/pyterrier_colbert/ranking.py:735: UserWarning: index_scorer() used with query_encoded=False, but query_embs column present in input. Should you use query_encoded=True?\n",
      "  warn(\"index_scorer() used with query_encoded=False, but query_embs column present in input. Should you use query_encoded=True?\")\n",
      "/home/stu4/s6/rk1668/miniconda3/envs/ir/lib/python3.11/site-packages/pyterrier_colbert/ranking.py:735: UserWarning: index_scorer() used with query_encoded=False, but query_embs column present in input. Should you use query_encoded=True?\n",
      "  warn(\"index_scorer() used with query_encoded=False, but query_embs column present in input. Should you use query_encoded=True?\")\n",
      "/home/stu4/s6/rk1668/miniconda3/envs/ir/lib/python3.11/site-packages/pyterrier_colbert/ranking.py:735: UserWarning: index_scorer() used with query_encoded=False, but query_embs column present in input. Should you use query_encoded=True?\n",
      "  warn(\"index_scorer() used with query_encoded=False, but query_embs column present in input. Should you use query_encoded=True?\")\n",
      "/home/stu4/s6/rk1668/miniconda3/envs/ir/lib/python3.11/site-packages/pyterrier_colbert/ranking.py:735: UserWarning: index_scorer() used with query_encoded=False, but query_embs column present in input. Should you use query_encoded=True?\n",
      "  warn(\"index_scorer() used with query_encoded=False, but query_embs column present in input. Should you use query_encoded=True?\")\n",
      "/home/stu4/s6/rk1668/miniconda3/envs/ir/lib/python3.11/site-packages/pyterrier_colbert/ranking.py:735: UserWarning: index_scorer() used with query_encoded=False, but query_embs column present in input. Should you use query_encoded=True?\n",
      "  warn(\"index_scorer() used with query_encoded=False, but query_embs column present in input. Should you use query_encoded=True?\")\n",
      "/home/stu4/s6/rk1668/miniconda3/envs/ir/lib/python3.11/site-packages/pyterrier_colbert/ranking.py:735: UserWarning: index_scorer() used with query_encoded=False, but query_embs column present in input. Should you use query_encoded=True?\n",
      "  warn(\"index_scorer() used with query_encoded=False, but query_embs column present in input. Should you use query_encoded=True?\")\n",
      "/home/stu4/s6/rk1668/miniconda3/envs/ir/lib/python3.11/site-packages/pyterrier_colbert/ranking.py:735: UserWarning: index_scorer() used with query_encoded=False, but query_embs column present in input. Should you use query_encoded=True?\n",
      "  warn(\"index_scorer() used with query_encoded=False, but query_embs column present in input. Should you use query_encoded=True?\")\n",
      "/home/stu4/s6/rk1668/miniconda3/envs/ir/lib/python3.11/site-packages/pyterrier_colbert/ranking.py:735: UserWarning: index_scorer() used with query_encoded=False, but query_embs column present in input. Should you use query_encoded=True?\n",
      "  warn(\"index_scorer() used with query_encoded=False, but query_embs column present in input. Should you use query_encoded=True?\")\n",
      "/home/stu4/s6/rk1668/miniconda3/envs/ir/lib/python3.11/site-packages/pyterrier_colbert/ranking.py:735: UserWarning: index_scorer() used with query_encoded=False, but query_embs column present in input. Should you use query_encoded=True?\n",
      "  warn(\"index_scorer() used with query_encoded=False, but query_embs column present in input. Should you use query_encoded=True?\")\n",
      "/home/stu4/s6/rk1668/miniconda3/envs/ir/lib/python3.11/site-packages/pyterrier_colbert/ranking.py:735: UserWarning: index_scorer() used with query_encoded=False, but query_embs column present in input. Should you use query_encoded=True?\n",
      "  warn(\"index_scorer() used with query_encoded=False, but query_embs column present in input. Should you use query_encoded=True?\")\n",
      "/home/stu4/s6/rk1668/miniconda3/envs/ir/lib/python3.11/site-packages/pyterrier_colbert/ranking.py:735: UserWarning: index_scorer() used with query_encoded=False, but query_embs column present in input. Should you use query_encoded=True?\n",
      "  warn(\"index_scorer() used with query_encoded=False, but query_embs column present in input. Should you use query_encoded=True?\")\n",
      "/home/stu4/s6/rk1668/miniconda3/envs/ir/lib/python3.11/site-packages/pyterrier_colbert/ranking.py:735: UserWarning: index_scorer() used with query_encoded=False, but query_embs column present in input. Should you use query_encoded=True?\n",
      "  warn(\"index_scorer() used with query_encoded=False, but query_embs column present in input. Should you use query_encoded=True?\")\n",
      "/home/stu4/s6/rk1668/miniconda3/envs/ir/lib/python3.11/site-packages/pyterrier_colbert/ranking.py:735: UserWarning: index_scorer() used with query_encoded=False, but query_embs column present in input. Should you use query_encoded=True?\n",
      "  warn(\"index_scorer() used with query_encoded=False, but query_embs column present in input. Should you use query_encoded=True?\")\n",
      "/home/stu4/s6/rk1668/miniconda3/envs/ir/lib/python3.11/site-packages/pyterrier_colbert/ranking.py:735: UserWarning: index_scorer() used with query_encoded=False, but query_embs column present in input. Should you use query_encoded=True?\n",
      "  warn(\"index_scorer() used with query_encoded=False, but query_embs column present in input. Should you use query_encoded=True?\")\n",
      "/home/stu4/s6/rk1668/miniconda3/envs/ir/lib/python3.11/site-packages/pyterrier_colbert/ranking.py:735: UserWarning: index_scorer() used with query_encoded=False, but query_embs column present in input. Should you use query_encoded=True?\n",
      "  warn(\"index_scorer() used with query_encoded=False, but query_embs column present in input. Should you use query_encoded=True?\")\n",
      "/home/stu4/s6/rk1668/miniconda3/envs/ir/lib/python3.11/site-packages/pyterrier_colbert/ranking.py:735: UserWarning: index_scorer() used with query_encoded=False, but query_embs column present in input. Should you use query_encoded=True?\n",
      "  warn(\"index_scorer() used with query_encoded=False, but query_embs column present in input. Should you use query_encoded=True?\")\n",
      "/home/stu4/s6/rk1668/miniconda3/envs/ir/lib/python3.11/site-packages/pyterrier_colbert/ranking.py:735: UserWarning: index_scorer() used with query_encoded=False, but query_embs column present in input. Should you use query_encoded=True?\n",
      "  warn(\"index_scorer() used with query_encoded=False, but query_embs column present in input. Should you use query_encoded=True?\")\n",
      "/home/stu4/s6/rk1668/miniconda3/envs/ir/lib/python3.11/site-packages/pyterrier_colbert/ranking.py:735: UserWarning: index_scorer() used with query_encoded=False, but query_embs column present in input. Should you use query_encoded=True?\n",
      "  warn(\"index_scorer() used with query_encoded=False, but query_embs column present in input. Should you use query_encoded=True?\")\n",
      "/home/stu4/s6/rk1668/miniconda3/envs/ir/lib/python3.11/site-packages/pyterrier_colbert/ranking.py:735: UserWarning: index_scorer() used with query_encoded=False, but query_embs column present in input. Should you use query_encoded=True?\n",
      "  warn(\"index_scorer() used with query_encoded=False, but query_embs column present in input. Should you use query_encoded=True?\")\n",
      "/home/stu4/s6/rk1668/miniconda3/envs/ir/lib/python3.11/site-packages/pyterrier_colbert/ranking.py:735: UserWarning: index_scorer() used with query_encoded=False, but query_embs column present in input. Should you use query_encoded=True?\n",
      "  warn(\"index_scorer() used with query_encoded=False, but query_embs column present in input. Should you use query_encoded=True?\")\n",
      "/home/stu4/s6/rk1668/miniconda3/envs/ir/lib/python3.11/site-packages/pyterrier_colbert/ranking.py:735: UserWarning: index_scorer() used with query_encoded=False, but query_embs column present in input. Should you use query_encoded=True?\n",
      "  warn(\"index_scorer() used with query_encoded=False, but query_embs column present in input. Should you use query_encoded=True?\")\n",
      "/home/stu4/s6/rk1668/miniconda3/envs/ir/lib/python3.11/site-packages/pyterrier_colbert/ranking.py:735: UserWarning: index_scorer() used with query_encoded=False, but query_embs column present in input. Should you use query_encoded=True?\n",
      "  warn(\"index_scorer() used with query_encoded=False, but query_embs column present in input. Should you use query_encoded=True?\")\n",
      "/home/stu4/s6/rk1668/miniconda3/envs/ir/lib/python3.11/site-packages/pyterrier_colbert/ranking.py:735: UserWarning: index_scorer() used with query_encoded=False, but query_embs column present in input. Should you use query_encoded=True?\n",
      "  warn(\"index_scorer() used with query_encoded=False, but query_embs column present in input. Should you use query_encoded=True?\")\n",
      "/home/stu4/s6/rk1668/miniconda3/envs/ir/lib/python3.11/site-packages/pyterrier_colbert/ranking.py:735: UserWarning: index_scorer() used with query_encoded=False, but query_embs column present in input. Should you use query_encoded=True?\n",
      "  warn(\"index_scorer() used with query_encoded=False, but query_embs column present in input. Should you use query_encoded=True?\")\n",
      "/home/stu4/s6/rk1668/miniconda3/envs/ir/lib/python3.11/site-packages/pyterrier_colbert/ranking.py:735: UserWarning: index_scorer() used with query_encoded=False, but query_embs column present in input. Should you use query_encoded=True?\n",
      "  warn(\"index_scorer() used with query_encoded=False, but query_embs column present in input. Should you use query_encoded=True?\")\n",
      "/home/stu4/s6/rk1668/miniconda3/envs/ir/lib/python3.11/site-packages/pyterrier_colbert/ranking.py:735: UserWarning: index_scorer() used with query_encoded=False, but query_embs column present in input. Should you use query_encoded=True?\n",
      "  warn(\"index_scorer() used with query_encoded=False, but query_embs column present in input. Should you use query_encoded=True?\")\n",
      "/home/stu4/s6/rk1668/miniconda3/envs/ir/lib/python3.11/site-packages/pyterrier_colbert/ranking.py:735: UserWarning: index_scorer() used with query_encoded=False, but query_embs column present in input. Should you use query_encoded=True?\n",
      "  warn(\"index_scorer() used with query_encoded=False, but query_embs column present in input. Should you use query_encoded=True?\")\n",
      "/home/stu4/s6/rk1668/miniconda3/envs/ir/lib/python3.11/site-packages/pyterrier_colbert/ranking.py:735: UserWarning: index_scorer() used with query_encoded=False, but query_embs column present in input. Should you use query_encoded=True?\n",
      "  warn(\"index_scorer() used with query_encoded=False, but query_embs column present in input. Should you use query_encoded=True?\")\n",
      "/home/stu4/s6/rk1668/miniconda3/envs/ir/lib/python3.11/site-packages/pyterrier_colbert/ranking.py:735: UserWarning: index_scorer() used with query_encoded=False, but query_embs column present in input. Should you use query_encoded=True?\n",
      "  warn(\"index_scorer() used with query_encoded=False, but query_embs column present in input. Should you use query_encoded=True?\")\n",
      "/home/stu4/s6/rk1668/miniconda3/envs/ir/lib/python3.11/site-packages/pyterrier_colbert/ranking.py:735: UserWarning: index_scorer() used with query_encoded=False, but query_embs column present in input. Should you use query_encoded=True?\n",
      "  warn(\"index_scorer() used with query_encoded=False, but query_embs column present in input. Should you use query_encoded=True?\")\n",
      "/home/stu4/s6/rk1668/miniconda3/envs/ir/lib/python3.11/site-packages/pyterrier_colbert/ranking.py:735: UserWarning: index_scorer() used with query_encoded=False, but query_embs column present in input. Should you use query_encoded=True?\n",
      "  warn(\"index_scorer() used with query_encoded=False, but query_embs column present in input. Should you use query_encoded=True?\")\n",
      "/home/stu4/s6/rk1668/miniconda3/envs/ir/lib/python3.11/site-packages/pyterrier_colbert/ranking.py:735: UserWarning: index_scorer() used with query_encoded=False, but query_embs column present in input. Should you use query_encoded=True?\n",
      "  warn(\"index_scorer() used with query_encoded=False, but query_embs column present in input. Should you use query_encoded=True?\")\n",
      "/home/stu4/s6/rk1668/miniconda3/envs/ir/lib/python3.11/site-packages/pyterrier_colbert/ranking.py:735: UserWarning: index_scorer() used with query_encoded=False, but query_embs column present in input. Should you use query_encoded=True?\n",
      "  warn(\"index_scorer() used with query_encoded=False, but query_embs column present in input. Should you use query_encoded=True?\")\n",
      "/home/stu4/s6/rk1668/miniconda3/envs/ir/lib/python3.11/site-packages/pyterrier_colbert/ranking.py:735: UserWarning: index_scorer() used with query_encoded=False, but query_embs column present in input. Should you use query_encoded=True?\n",
      "  warn(\"index_scorer() used with query_encoded=False, but query_embs column present in input. Should you use query_encoded=True?\")\n",
      "/home/stu4/s6/rk1668/miniconda3/envs/ir/lib/python3.11/site-packages/pyterrier_colbert/ranking.py:735: UserWarning: index_scorer() used with query_encoded=False, but query_embs column present in input. Should you use query_encoded=True?\n",
      "  warn(\"index_scorer() used with query_encoded=False, but query_embs column present in input. Should you use query_encoded=True?\")\n",
      "/home/stu4/s6/rk1668/miniconda3/envs/ir/lib/python3.11/site-packages/pyterrier_colbert/ranking.py:735: UserWarning: index_scorer() used with query_encoded=False, but query_embs column present in input. Should you use query_encoded=True?\n",
      "  warn(\"index_scorer() used with query_encoded=False, but query_embs column present in input. Should you use query_encoded=True?\")\n",
      "/home/stu4/s6/rk1668/miniconda3/envs/ir/lib/python3.11/site-packages/pyterrier_colbert/ranking.py:735: UserWarning: index_scorer() used with query_encoded=False, but query_embs column present in input. Should you use query_encoded=True?\n",
      "  warn(\"index_scorer() used with query_encoded=False, but query_embs column present in input. Should you use query_encoded=True?\")\n",
      "/home/stu4/s6/rk1668/miniconda3/envs/ir/lib/python3.11/site-packages/pyterrier_colbert/ranking.py:735: UserWarning: index_scorer() used with query_encoded=False, but query_embs column present in input. Should you use query_encoded=True?\n",
      "  warn(\"index_scorer() used with query_encoded=False, but query_embs column present in input. Should you use query_encoded=True?\")\n",
      "/home/stu4/s6/rk1668/miniconda3/envs/ir/lib/python3.11/site-packages/pyterrier_colbert/ranking.py:735: UserWarning: index_scorer() used with query_encoded=False, but query_embs column present in input. Should you use query_encoded=True?\n",
      "  warn(\"index_scorer() used with query_encoded=False, but query_embs column present in input. Should you use query_encoded=True?\")\n",
      "/home/stu4/s6/rk1668/miniconda3/envs/ir/lib/python3.11/site-packages/pyterrier_colbert/ranking.py:735: UserWarning: index_scorer() used with query_encoded=False, but query_embs column present in input. Should you use query_encoded=True?\n",
      "  warn(\"index_scorer() used with query_encoded=False, but query_embs column present in input. Should you use query_encoded=True?\")\n",
      "/home/stu4/s6/rk1668/miniconda3/envs/ir/lib/python3.11/site-packages/pyterrier_colbert/ranking.py:735: UserWarning: index_scorer() used with query_encoded=False, but query_embs column present in input. Should you use query_encoded=True?\n",
      "  warn(\"index_scorer() used with query_encoded=False, but query_embs column present in input. Should you use query_encoded=True?\")\n",
      "/home/stu4/s6/rk1668/miniconda3/envs/ir/lib/python3.11/site-packages/pyterrier_colbert/ranking.py:735: UserWarning: index_scorer() used with query_encoded=False, but query_embs column present in input. Should you use query_encoded=True?\n",
      "  warn(\"index_scorer() used with query_encoded=False, but query_embs column present in input. Should you use query_encoded=True?\")\n",
      "/home/stu4/s6/rk1668/miniconda3/envs/ir/lib/python3.11/site-packages/pyterrier_colbert/ranking.py:735: UserWarning: index_scorer() used with query_encoded=False, but query_embs column present in input. Should you use query_encoded=True?\n",
      "  warn(\"index_scorer() used with query_encoded=False, but query_embs column present in input. Should you use query_encoded=True?\")\n",
      "/home/stu4/s6/rk1668/miniconda3/envs/ir/lib/python3.11/site-packages/pyterrier_colbert/ranking.py:735: UserWarning: index_scorer() used with query_encoded=False, but query_embs column present in input. Should you use query_encoded=True?\n",
      "  warn(\"index_scorer() used with query_encoded=False, but query_embs column present in input. Should you use query_encoded=True?\")\n",
      "/home/stu4/s6/rk1668/miniconda3/envs/ir/lib/python3.11/site-packages/pyterrier_colbert/ranking.py:735: UserWarning: index_scorer() used with query_encoded=False, but query_embs column present in input. Should you use query_encoded=True?\n",
      "  warn(\"index_scorer() used with query_encoded=False, but query_embs column present in input. Should you use query_encoded=True?\")\n",
      "/home/stu4/s6/rk1668/miniconda3/envs/ir/lib/python3.11/site-packages/pyterrier_colbert/ranking.py:735: UserWarning: index_scorer() used with query_encoded=False, but query_embs column present in input. Should you use query_encoded=True?\n",
      "  warn(\"index_scorer() used with query_encoded=False, but query_embs column present in input. Should you use query_encoded=True?\")\n",
      "/home/stu4/s6/rk1668/miniconda3/envs/ir/lib/python3.11/site-packages/pyterrier_colbert/ranking.py:735: UserWarning: index_scorer() used with query_encoded=False, but query_embs column present in input. Should you use query_encoded=True?\n",
      "  warn(\"index_scorer() used with query_encoded=False, but query_embs column present in input. Should you use query_encoded=True?\")\n",
      "/home/stu4/s6/rk1668/miniconda3/envs/ir/lib/python3.11/site-packages/pyterrier_colbert/ranking.py:735: UserWarning: index_scorer() used with query_encoded=False, but query_embs column present in input. Should you use query_encoded=True?\n",
      "  warn(\"index_scorer() used with query_encoded=False, but query_embs column present in input. Should you use query_encoded=True?\")\n",
      "/home/stu4/s6/rk1668/miniconda3/envs/ir/lib/python3.11/site-packages/pyterrier_colbert/ranking.py:735: UserWarning: index_scorer() used with query_encoded=False, but query_embs column present in input. Should you use query_encoded=True?\n",
      "  warn(\"index_scorer() used with query_encoded=False, but query_embs column present in input. Should you use query_encoded=True?\")\n",
      "/home/stu4/s6/rk1668/miniconda3/envs/ir/lib/python3.11/site-packages/pyterrier_colbert/ranking.py:735: UserWarning: index_scorer() used with query_encoded=False, but query_embs column present in input. Should you use query_encoded=True?\n",
      "  warn(\"index_scorer() used with query_encoded=False, but query_embs column present in input. Should you use query_encoded=True?\")\n",
      "/home/stu4/s6/rk1668/miniconda3/envs/ir/lib/python3.11/site-packages/pyterrier_colbert/ranking.py:735: UserWarning: index_scorer() used with query_encoded=False, but query_embs column present in input. Should you use query_encoded=True?\n",
      "  warn(\"index_scorer() used with query_encoded=False, but query_embs column present in input. Should you use query_encoded=True?\")\n",
      "/home/stu4/s6/rk1668/miniconda3/envs/ir/lib/python3.11/site-packages/pyterrier_colbert/ranking.py:735: UserWarning: index_scorer() used with query_encoded=False, but query_embs column present in input. Should you use query_encoded=True?\n",
      "  warn(\"index_scorer() used with query_encoded=False, but query_embs column present in input. Should you use query_encoded=True?\")\n",
      "/home/stu4/s6/rk1668/miniconda3/envs/ir/lib/python3.11/site-packages/pyterrier_colbert/ranking.py:735: UserWarning: index_scorer() used with query_encoded=False, but query_embs column present in input. Should you use query_encoded=True?\n",
      "  warn(\"index_scorer() used with query_encoded=False, but query_embs column present in input. Should you use query_encoded=True?\")\n",
      "/home/stu4/s6/rk1668/miniconda3/envs/ir/lib/python3.11/site-packages/pyterrier_colbert/ranking.py:735: UserWarning: index_scorer() used with query_encoded=False, but query_embs column present in input. Should you use query_encoded=True?\n",
      "  warn(\"index_scorer() used with query_encoded=False, but query_embs column present in input. Should you use query_encoded=True?\")\n",
      "/home/stu4/s6/rk1668/miniconda3/envs/ir/lib/python3.11/site-packages/pyterrier_colbert/ranking.py:735: UserWarning: index_scorer() used with query_encoded=False, but query_embs column present in input. Should you use query_encoded=True?\n",
      "  warn(\"index_scorer() used with query_encoded=False, but query_embs column present in input. Should you use query_encoded=True?\")\n",
      "/home/stu4/s6/rk1668/miniconda3/envs/ir/lib/python3.11/site-packages/pyterrier_colbert/ranking.py:735: UserWarning: index_scorer() used with query_encoded=False, but query_embs column present in input. Should you use query_encoded=True?\n",
      "  warn(\"index_scorer() used with query_encoded=False, but query_embs column present in input. Should you use query_encoded=True?\")\n",
      "/home/stu4/s6/rk1668/miniconda3/envs/ir/lib/python3.11/site-packages/pyterrier_colbert/ranking.py:735: UserWarning: index_scorer() used with query_encoded=False, but query_embs column present in input. Should you use query_encoded=True?\n",
      "  warn(\"index_scorer() used with query_encoded=False, but query_embs column present in input. Should you use query_encoded=True?\")\n",
      "/home/stu4/s6/rk1668/miniconda3/envs/ir/lib/python3.11/site-packages/pyterrier_colbert/ranking.py:735: UserWarning: index_scorer() used with query_encoded=False, but query_embs column present in input. Should you use query_encoded=True?\n",
      "  warn(\"index_scorer() used with query_encoded=False, but query_embs column present in input. Should you use query_encoded=True?\")\n",
      "/home/stu4/s6/rk1668/miniconda3/envs/ir/lib/python3.11/site-packages/pyterrier_colbert/ranking.py:735: UserWarning: index_scorer() used with query_encoded=False, but query_embs column present in input. Should you use query_encoded=True?\n",
      "  warn(\"index_scorer() used with query_encoded=False, but query_embs column present in input. Should you use query_encoded=True?\")\n",
      "/home/stu4/s6/rk1668/miniconda3/envs/ir/lib/python3.11/site-packages/pyterrier_colbert/ranking.py:735: UserWarning: index_scorer() used with query_encoded=False, but query_embs column present in input. Should you use query_encoded=True?\n",
      "  warn(\"index_scorer() used with query_encoded=False, but query_embs column present in input. Should you use query_encoded=True?\")\n",
      "/home/stu4/s6/rk1668/miniconda3/envs/ir/lib/python3.11/site-packages/pyterrier_colbert/ranking.py:735: UserWarning: index_scorer() used with query_encoded=False, but query_embs column present in input. Should you use query_encoded=True?\n",
      "  warn(\"index_scorer() used with query_encoded=False, but query_embs column present in input. Should you use query_encoded=True?\")\n",
      "/home/stu4/s6/rk1668/miniconda3/envs/ir/lib/python3.11/site-packages/pyterrier_colbert/ranking.py:735: UserWarning: index_scorer() used with query_encoded=False, but query_embs column present in input. Should you use query_encoded=True?\n",
      "  warn(\"index_scorer() used with query_encoded=False, but query_embs column present in input. Should you use query_encoded=True?\")\n",
      "/home/stu4/s6/rk1668/miniconda3/envs/ir/lib/python3.11/site-packages/pyterrier_colbert/ranking.py:735: UserWarning: index_scorer() used with query_encoded=False, but query_embs column present in input. Should you use query_encoded=True?\n",
      "  warn(\"index_scorer() used with query_encoded=False, but query_embs column present in input. Should you use query_encoded=True?\")\n",
      "/home/stu4/s6/rk1668/miniconda3/envs/ir/lib/python3.11/site-packages/pyterrier_colbert/ranking.py:735: UserWarning: index_scorer() used with query_encoded=False, but query_embs column present in input. Should you use query_encoded=True?\n",
      "  warn(\"index_scorer() used with query_encoded=False, but query_embs column present in input. Should you use query_encoded=True?\")\n",
      "/home/stu4/s6/rk1668/miniconda3/envs/ir/lib/python3.11/site-packages/pyterrier_colbert/ranking.py:735: UserWarning: index_scorer() used with query_encoded=False, but query_embs column present in input. Should you use query_encoded=True?\n",
      "  warn(\"index_scorer() used with query_encoded=False, but query_embs column present in input. Should you use query_encoded=True?\")\n",
      "/home/stu4/s6/rk1668/miniconda3/envs/ir/lib/python3.11/site-packages/pyterrier_colbert/ranking.py:735: UserWarning: index_scorer() used with query_encoded=False, but query_embs column present in input. Should you use query_encoded=True?\n",
      "  warn(\"index_scorer() used with query_encoded=False, but query_embs column present in input. Should you use query_encoded=True?\")\n",
      "/home/stu4/s6/rk1668/miniconda3/envs/ir/lib/python3.11/site-packages/pyterrier_colbert/ranking.py:735: UserWarning: index_scorer() used with query_encoded=False, but query_embs column present in input. Should you use query_encoded=True?\n",
      "  warn(\"index_scorer() used with query_encoded=False, but query_embs column present in input. Should you use query_encoded=True?\")\n",
      "/home/stu4/s6/rk1668/miniconda3/envs/ir/lib/python3.11/site-packages/pyterrier_colbert/ranking.py:735: UserWarning: index_scorer() used with query_encoded=False, but query_embs column present in input. Should you use query_encoded=True?\n",
      "  warn(\"index_scorer() used with query_encoded=False, but query_embs column present in input. Should you use query_encoded=True?\")\n",
      "/home/stu4/s6/rk1668/miniconda3/envs/ir/lib/python3.11/site-packages/pyterrier_colbert/ranking.py:735: UserWarning: index_scorer() used with query_encoded=False, but query_embs column present in input. Should you use query_encoded=True?\n",
      "  warn(\"index_scorer() used with query_encoded=False, but query_embs column present in input. Should you use query_encoded=True?\")\n",
      "/home/stu4/s6/rk1668/miniconda3/envs/ir/lib/python3.11/site-packages/pyterrier_colbert/ranking.py:735: UserWarning: index_scorer() used with query_encoded=False, but query_embs column present in input. Should you use query_encoded=True?\n",
      "  warn(\"index_scorer() used with query_encoded=False, but query_embs column present in input. Should you use query_encoded=True?\")\n",
      "/home/stu4/s6/rk1668/miniconda3/envs/ir/lib/python3.11/site-packages/pyterrier_colbert/ranking.py:735: UserWarning: index_scorer() used with query_encoded=False, but query_embs column present in input. Should you use query_encoded=True?\n",
      "  warn(\"index_scorer() used with query_encoded=False, but query_embs column present in input. Should you use query_encoded=True?\")\n",
      "/home/stu4/s6/rk1668/miniconda3/envs/ir/lib/python3.11/site-packages/pyterrier_colbert/ranking.py:735: UserWarning: index_scorer() used with query_encoded=False, but query_embs column present in input. Should you use query_encoded=True?\n",
      "  warn(\"index_scorer() used with query_encoded=False, but query_embs column present in input. Should you use query_encoded=True?\")\n",
      "/home/stu4/s6/rk1668/miniconda3/envs/ir/lib/python3.11/site-packages/pyterrier_colbert/ranking.py:735: UserWarning: index_scorer() used with query_encoded=False, but query_embs column present in input. Should you use query_encoded=True?\n",
      "  warn(\"index_scorer() used with query_encoded=False, but query_embs column present in input. Should you use query_encoded=True?\")\n",
      "/home/stu4/s6/rk1668/miniconda3/envs/ir/lib/python3.11/site-packages/pyterrier_colbert/ranking.py:735: UserWarning: index_scorer() used with query_encoded=False, but query_embs column present in input. Should you use query_encoded=True?\n",
      "  warn(\"index_scorer() used with query_encoded=False, but query_embs column present in input. Should you use query_encoded=True?\")\n",
      "/home/stu4/s6/rk1668/miniconda3/envs/ir/lib/python3.11/site-packages/pyterrier_colbert/ranking.py:735: UserWarning: index_scorer() used with query_encoded=False, but query_embs column present in input. Should you use query_encoded=True?\n",
      "  warn(\"index_scorer() used with query_encoded=False, but query_embs column present in input. Should you use query_encoded=True?\")\n",
      "/home/stu4/s6/rk1668/miniconda3/envs/ir/lib/python3.11/site-packages/pyterrier_colbert/ranking.py:735: UserWarning: index_scorer() used with query_encoded=False, but query_embs column present in input. Should you use query_encoded=True?\n",
      "  warn(\"index_scorer() used with query_encoded=False, but query_embs column present in input. Should you use query_encoded=True?\")\n",
      "/home/stu4/s6/rk1668/miniconda3/envs/ir/lib/python3.11/site-packages/pyterrier_colbert/ranking.py:735: UserWarning: index_scorer() used with query_encoded=False, but query_embs column present in input. Should you use query_encoded=True?\n",
      "  warn(\"index_scorer() used with query_encoded=False, but query_embs column present in input. Should you use query_encoded=True?\")\n",
      "/home/stu4/s6/rk1668/miniconda3/envs/ir/lib/python3.11/site-packages/pyterrier_colbert/ranking.py:735: UserWarning: index_scorer() used with query_encoded=False, but query_embs column present in input. Should you use query_encoded=True?\n",
      "  warn(\"index_scorer() used with query_encoded=False, but query_embs column present in input. Should you use query_encoded=True?\")\n",
      "/home/stu4/s6/rk1668/miniconda3/envs/ir/lib/python3.11/site-packages/pyterrier_colbert/ranking.py:735: UserWarning: index_scorer() used with query_encoded=False, but query_embs column present in input. Should you use query_encoded=True?\n",
      "  warn(\"index_scorer() used with query_encoded=False, but query_embs column present in input. Should you use query_encoded=True?\")\n",
      "/home/stu4/s6/rk1668/miniconda3/envs/ir/lib/python3.11/site-packages/pyterrier_colbert/ranking.py:735: UserWarning: index_scorer() used with query_encoded=False, but query_embs column present in input. Should you use query_encoded=True?\n",
      "  warn(\"index_scorer() used with query_encoded=False, but query_embs column present in input. Should you use query_encoded=True?\")\n",
      "/home/stu4/s6/rk1668/miniconda3/envs/ir/lib/python3.11/site-packages/pyterrier_colbert/ranking.py:735: UserWarning: index_scorer() used with query_encoded=False, but query_embs column present in input. Should you use query_encoded=True?\n",
      "  warn(\"index_scorer() used with query_encoded=False, but query_embs column present in input. Should you use query_encoded=True?\")\n",
      "/home/stu4/s6/rk1668/miniconda3/envs/ir/lib/python3.11/site-packages/pyterrier_colbert/ranking.py:735: UserWarning: index_scorer() used with query_encoded=False, but query_embs column present in input. Should you use query_encoded=True?\n",
      "  warn(\"index_scorer() used with query_encoded=False, but query_embs column present in input. Should you use query_encoded=True?\")\n",
      "/home/stu4/s6/rk1668/miniconda3/envs/ir/lib/python3.11/site-packages/pyterrier_colbert/ranking.py:735: UserWarning: index_scorer() used with query_encoded=False, but query_embs column present in input. Should you use query_encoded=True?\n",
      "  warn(\"index_scorer() used with query_encoded=False, but query_embs column present in input. Should you use query_encoded=True?\")\n",
      "/home/stu4/s6/rk1668/miniconda3/envs/ir/lib/python3.11/site-packages/pyterrier_colbert/ranking.py:735: UserWarning: index_scorer() used with query_encoded=False, but query_embs column present in input. Should you use query_encoded=True?\n",
      "  warn(\"index_scorer() used with query_encoded=False, but query_embs column present in input. Should you use query_encoded=True?\")\n",
      "/home/stu4/s6/rk1668/miniconda3/envs/ir/lib/python3.11/site-packages/pyterrier_colbert/ranking.py:735: UserWarning: index_scorer() used with query_encoded=False, but query_embs column present in input. Should you use query_encoded=True?\n",
      "  warn(\"index_scorer() used with query_encoded=False, but query_embs column present in input. Should you use query_encoded=True?\")\n",
      "/home/stu4/s6/rk1668/miniconda3/envs/ir/lib/python3.11/site-packages/pyterrier_colbert/ranking.py:735: UserWarning: index_scorer() used with query_encoded=False, but query_embs column present in input. Should you use query_encoded=True?\n",
      "  warn(\"index_scorer() used with query_encoded=False, but query_embs column present in input. Should you use query_encoded=True?\")\n",
      "/home/stu4/s6/rk1668/miniconda3/envs/ir/lib/python3.11/site-packages/pyterrier_colbert/ranking.py:735: UserWarning: index_scorer() used with query_encoded=False, but query_embs column present in input. Should you use query_encoded=True?\n",
      "  warn(\"index_scorer() used with query_encoded=False, but query_embs column present in input. Should you use query_encoded=True?\")\n",
      "/home/stu4/s6/rk1668/miniconda3/envs/ir/lib/python3.11/site-packages/pyterrier_colbert/ranking.py:735: UserWarning: index_scorer() used with query_encoded=False, but query_embs column present in input. Should you use query_encoded=True?\n",
      "  warn(\"index_scorer() used with query_encoded=False, but query_embs column present in input. Should you use query_encoded=True?\")\n",
      "/home/stu4/s6/rk1668/miniconda3/envs/ir/lib/python3.11/site-packages/pyterrier_colbert/ranking.py:735: UserWarning: index_scorer() used with query_encoded=False, but query_embs column present in input. Should you use query_encoded=True?\n",
      "  warn(\"index_scorer() used with query_encoded=False, but query_embs column present in input. Should you use query_encoded=True?\")\n",
      "/home/stu4/s6/rk1668/miniconda3/envs/ir/lib/python3.11/site-packages/pyterrier_colbert/ranking.py:735: UserWarning: index_scorer() used with query_encoded=False, but query_embs column present in input. Should you use query_encoded=True?\n",
      "  warn(\"index_scorer() used with query_encoded=False, but query_embs column present in input. Should you use query_encoded=True?\")\n",
      "/home/stu4/s6/rk1668/miniconda3/envs/ir/lib/python3.11/site-packages/pyterrier_colbert/ranking.py:735: UserWarning: index_scorer() used with query_encoded=False, but query_embs column present in input. Should you use query_encoded=True?\n",
      "  warn(\"index_scorer() used with query_encoded=False, but query_embs column present in input. Should you use query_encoded=True?\")\n",
      "/home/stu4/s6/rk1668/miniconda3/envs/ir/lib/python3.11/site-packages/pyterrier_colbert/ranking.py:735: UserWarning: index_scorer() used with query_encoded=False, but query_embs column present in input. Should you use query_encoded=True?\n",
      "  warn(\"index_scorer() used with query_encoded=False, but query_embs column present in input. Should you use query_encoded=True?\")\n",
      "/home/stu4/s6/rk1668/miniconda3/envs/ir/lib/python3.11/site-packages/pyterrier_colbert/ranking.py:735: UserWarning: index_scorer() used with query_encoded=False, but query_embs column present in input. Should you use query_encoded=True?\n",
      "  warn(\"index_scorer() used with query_encoded=False, but query_embs column present in input. Should you use query_encoded=True?\")\n",
      "/home/stu4/s6/rk1668/miniconda3/envs/ir/lib/python3.11/site-packages/pyterrier_colbert/ranking.py:735: UserWarning: index_scorer() used with query_encoded=False, but query_embs column present in input. Should you use query_encoded=True?\n",
      "  warn(\"index_scorer() used with query_encoded=False, but query_embs column present in input. Should you use query_encoded=True?\")\n",
      "/home/stu4/s6/rk1668/miniconda3/envs/ir/lib/python3.11/site-packages/pyterrier_colbert/ranking.py:735: UserWarning: index_scorer() used with query_encoded=False, but query_embs column present in input. Should you use query_encoded=True?\n",
      "  warn(\"index_scorer() used with query_encoded=False, but query_embs column present in input. Should you use query_encoded=True?\")\n",
      "/home/stu4/s6/rk1668/miniconda3/envs/ir/lib/python3.11/site-packages/pyterrier_colbert/ranking.py:735: UserWarning: index_scorer() used with query_encoded=False, but query_embs column present in input. Should you use query_encoded=True?\n",
      "  warn(\"index_scorer() used with query_encoded=False, but query_embs column present in input. Should you use query_encoded=True?\")\n",
      "/home/stu4/s6/rk1668/miniconda3/envs/ir/lib/python3.11/site-packages/pyterrier_colbert/ranking.py:735: UserWarning: index_scorer() used with query_encoded=False, but query_embs column present in input. Should you use query_encoded=True?\n",
      "  warn(\"index_scorer() used with query_encoded=False, but query_embs column present in input. Should you use query_encoded=True?\")\n",
      "/home/stu4/s6/rk1668/miniconda3/envs/ir/lib/python3.11/site-packages/pyterrier_colbert/ranking.py:735: UserWarning: index_scorer() used with query_encoded=False, but query_embs column present in input. Should you use query_encoded=True?\n",
      "  warn(\"index_scorer() used with query_encoded=False, but query_embs column present in input. Should you use query_encoded=True?\")\n",
      "/home/stu4/s6/rk1668/miniconda3/envs/ir/lib/python3.11/site-packages/pyterrier_colbert/ranking.py:735: UserWarning: index_scorer() used with query_encoded=False, but query_embs column present in input. Should you use query_encoded=True?\n",
      "  warn(\"index_scorer() used with query_encoded=False, but query_embs column present in input. Should you use query_encoded=True?\")\n",
      "/home/stu4/s6/rk1668/miniconda3/envs/ir/lib/python3.11/site-packages/pyterrier_colbert/ranking.py:735: UserWarning: index_scorer() used with query_encoded=False, but query_embs column present in input. Should you use query_encoded=True?\n",
      "  warn(\"index_scorer() used with query_encoded=False, but query_embs column present in input. Should you use query_encoded=True?\")\n",
      "/home/stu4/s6/rk1668/miniconda3/envs/ir/lib/python3.11/site-packages/pyterrier_colbert/ranking.py:735: UserWarning: index_scorer() used with query_encoded=False, but query_embs column present in input. Should you use query_encoded=True?\n",
      "  warn(\"index_scorer() used with query_encoded=False, but query_embs column present in input. Should you use query_encoded=True?\")\n",
      "/home/stu4/s6/rk1668/miniconda3/envs/ir/lib/python3.11/site-packages/pyterrier_colbert/ranking.py:735: UserWarning: index_scorer() used with query_encoded=False, but query_embs column present in input. Should you use query_encoded=True?\n",
      "  warn(\"index_scorer() used with query_encoded=False, but query_embs column present in input. Should you use query_encoded=True?\")\n",
      "/home/stu4/s6/rk1668/miniconda3/envs/ir/lib/python3.11/site-packages/pyterrier_colbert/ranking.py:735: UserWarning: index_scorer() used with query_encoded=False, but query_embs column present in input. Should you use query_encoded=True?\n",
      "  warn(\"index_scorer() used with query_encoded=False, but query_embs column present in input. Should you use query_encoded=True?\")\n",
      "/home/stu4/s6/rk1668/miniconda3/envs/ir/lib/python3.11/site-packages/pyterrier_colbert/ranking.py:735: UserWarning: index_scorer() used with query_encoded=False, but query_embs column present in input. Should you use query_encoded=True?\n",
      "  warn(\"index_scorer() used with query_encoded=False, but query_embs column present in input. Should you use query_encoded=True?\")\n",
      "/home/stu4/s6/rk1668/miniconda3/envs/ir/lib/python3.11/site-packages/pyterrier_colbert/ranking.py:735: UserWarning: index_scorer() used with query_encoded=False, but query_embs column present in input. Should you use query_encoded=True?\n",
      "  warn(\"index_scorer() used with query_encoded=False, but query_embs column present in input. Should you use query_encoded=True?\")\n",
      "/home/stu4/s6/rk1668/miniconda3/envs/ir/lib/python3.11/site-packages/pyterrier_colbert/ranking.py:735: UserWarning: index_scorer() used with query_encoded=False, but query_embs column present in input. Should you use query_encoded=True?\n",
      "  warn(\"index_scorer() used with query_encoded=False, but query_embs column present in input. Should you use query_encoded=True?\")\n",
      "/home/stu4/s6/rk1668/miniconda3/envs/ir/lib/python3.11/site-packages/pyterrier_colbert/ranking.py:735: UserWarning: index_scorer() used with query_encoded=False, but query_embs column present in input. Should you use query_encoded=True?\n",
      "  warn(\"index_scorer() used with query_encoded=False, but query_embs column present in input. Should you use query_encoded=True?\")\n",
      "/home/stu4/s6/rk1668/miniconda3/envs/ir/lib/python3.11/site-packages/pyterrier_colbert/ranking.py:735: UserWarning: index_scorer() used with query_encoded=False, but query_embs column present in input. Should you use query_encoded=True?\n",
      "  warn(\"index_scorer() used with query_encoded=False, but query_embs column present in input. Should you use query_encoded=True?\")\n",
      "/home/stu4/s6/rk1668/miniconda3/envs/ir/lib/python3.11/site-packages/pyterrier_colbert/ranking.py:735: UserWarning: index_scorer() used with query_encoded=False, but query_embs column present in input. Should you use query_encoded=True?\n",
      "  warn(\"index_scorer() used with query_encoded=False, but query_embs column present in input. Should you use query_encoded=True?\")\n",
      "/home/stu4/s6/rk1668/miniconda3/envs/ir/lib/python3.11/site-packages/pyterrier_colbert/ranking.py:735: UserWarning: index_scorer() used with query_encoded=False, but query_embs column present in input. Should you use query_encoded=True?\n",
      "  warn(\"index_scorer() used with query_encoded=False, but query_embs column present in input. Should you use query_encoded=True?\")\n",
      "/home/stu4/s6/rk1668/miniconda3/envs/ir/lib/python3.11/site-packages/pyterrier_colbert/ranking.py:735: UserWarning: index_scorer() used with query_encoded=False, but query_embs column present in input. Should you use query_encoded=True?\n",
      "  warn(\"index_scorer() used with query_encoded=False, but query_embs column present in input. Should you use query_encoded=True?\")\n",
      "/home/stu4/s6/rk1668/miniconda3/envs/ir/lib/python3.11/site-packages/pyterrier_colbert/ranking.py:735: UserWarning: index_scorer() used with query_encoded=False, but query_embs column present in input. Should you use query_encoded=True?\n",
      "  warn(\"index_scorer() used with query_encoded=False, but query_embs column present in input. Should you use query_encoded=True?\")\n",
      "/home/stu4/s6/rk1668/miniconda3/envs/ir/lib/python3.11/site-packages/pyterrier_colbert/ranking.py:735: UserWarning: index_scorer() used with query_encoded=False, but query_embs column present in input. Should you use query_encoded=True?\n",
      "  warn(\"index_scorer() used with query_encoded=False, but query_embs column present in input. Should you use query_encoded=True?\")\n",
      "/home/stu4/s6/rk1668/miniconda3/envs/ir/lib/python3.11/site-packages/pyterrier_colbert/ranking.py:735: UserWarning: index_scorer() used with query_encoded=False, but query_embs column present in input. Should you use query_encoded=True?\n",
      "  warn(\"index_scorer() used with query_encoded=False, but query_embs column present in input. Should you use query_encoded=True?\")\n",
      "/home/stu4/s6/rk1668/miniconda3/envs/ir/lib/python3.11/site-packages/pyterrier_colbert/ranking.py:735: UserWarning: index_scorer() used with query_encoded=False, but query_embs column present in input. Should you use query_encoded=True?\n",
      "  warn(\"index_scorer() used with query_encoded=False, but query_embs column present in input. Should you use query_encoded=True?\")\n",
      "/home/stu4/s6/rk1668/miniconda3/envs/ir/lib/python3.11/site-packages/pyterrier_colbert/ranking.py:735: UserWarning: index_scorer() used with query_encoded=False, but query_embs column present in input. Should you use query_encoded=True?\n",
      "  warn(\"index_scorer() used with query_encoded=False, but query_embs column present in input. Should you use query_encoded=True?\")\n",
      "/home/stu4/s6/rk1668/miniconda3/envs/ir/lib/python3.11/site-packages/pyterrier_colbert/ranking.py:735: UserWarning: index_scorer() used with query_encoded=False, but query_embs column present in input. Should you use query_encoded=True?\n",
      "  warn(\"index_scorer() used with query_encoded=False, but query_embs column present in input. Should you use query_encoded=True?\")\n",
      "/home/stu4/s6/rk1668/miniconda3/envs/ir/lib/python3.11/site-packages/pyterrier_colbert/ranking.py:735: UserWarning: index_scorer() used with query_encoded=False, but query_embs column present in input. Should you use query_encoded=True?\n",
      "  warn(\"index_scorer() used with query_encoded=False, but query_embs column present in input. Should you use query_encoded=True?\")\n",
      "/home/stu4/s6/rk1668/miniconda3/envs/ir/lib/python3.11/site-packages/pyterrier_colbert/ranking.py:735: UserWarning: index_scorer() used with query_encoded=False, but query_embs column present in input. Should you use query_encoded=True?\n",
      "  warn(\"index_scorer() used with query_encoded=False, but query_embs column present in input. Should you use query_encoded=True?\")\n",
      "/home/stu4/s6/rk1668/miniconda3/envs/ir/lib/python3.11/site-packages/pyterrier_colbert/ranking.py:735: UserWarning: index_scorer() used with query_encoded=False, but query_embs column present in input. Should you use query_encoded=True?\n",
      "  warn(\"index_scorer() used with query_encoded=False, but query_embs column present in input. Should you use query_encoded=True?\")\n",
      "/home/stu4/s6/rk1668/miniconda3/envs/ir/lib/python3.11/site-packages/pyterrier_colbert/ranking.py:735: UserWarning: index_scorer() used with query_encoded=False, but query_embs column present in input. Should you use query_encoded=True?\n",
      "  warn(\"index_scorer() used with query_encoded=False, but query_embs column present in input. Should you use query_encoded=True?\")\n",
      "/home/stu4/s6/rk1668/miniconda3/envs/ir/lib/python3.11/site-packages/pyterrier_colbert/ranking.py:735: UserWarning: index_scorer() used with query_encoded=False, but query_embs column present in input. Should you use query_encoded=True?\n",
      "  warn(\"index_scorer() used with query_encoded=False, but query_embs column present in input. Should you use query_encoded=True?\")\n",
      "/home/stu4/s6/rk1668/miniconda3/envs/ir/lib/python3.11/site-packages/pyterrier_colbert/ranking.py:735: UserWarning: index_scorer() used with query_encoded=False, but query_embs column present in input. Should you use query_encoded=True?\n",
      "  warn(\"index_scorer() used with query_encoded=False, but query_embs column present in input. Should you use query_encoded=True?\")\n",
      "/home/stu4/s6/rk1668/miniconda3/envs/ir/lib/python3.11/site-packages/pyterrier_colbert/ranking.py:735: UserWarning: index_scorer() used with query_encoded=False, but query_embs column present in input. Should you use query_encoded=True?\n",
      "  warn(\"index_scorer() used with query_encoded=False, but query_embs column present in input. Should you use query_encoded=True?\")\n",
      "/home/stu4/s6/rk1668/miniconda3/envs/ir/lib/python3.11/site-packages/pyterrier_colbert/ranking.py:735: UserWarning: index_scorer() used with query_encoded=False, but query_embs column present in input. Should you use query_encoded=True?\n",
      "  warn(\"index_scorer() used with query_encoded=False, but query_embs column present in input. Should you use query_encoded=True?\")\n",
      "/home/stu4/s6/rk1668/miniconda3/envs/ir/lib/python3.11/site-packages/pyterrier_colbert/ranking.py:735: UserWarning: index_scorer() used with query_encoded=False, but query_embs column present in input. Should you use query_encoded=True?\n",
      "  warn(\"index_scorer() used with query_encoded=False, but query_embs column present in input. Should you use query_encoded=True?\")\n",
      "/home/stu4/s6/rk1668/miniconda3/envs/ir/lib/python3.11/site-packages/pyterrier_colbert/ranking.py:735: UserWarning: index_scorer() used with query_encoded=False, but query_embs column present in input. Should you use query_encoded=True?\n",
      "  warn(\"index_scorer() used with query_encoded=False, but query_embs column present in input. Should you use query_encoded=True?\")\n",
      "/home/stu4/s6/rk1668/miniconda3/envs/ir/lib/python3.11/site-packages/pyterrier_colbert/ranking.py:735: UserWarning: index_scorer() used with query_encoded=False, but query_embs column present in input. Should you use query_encoded=True?\n",
      "  warn(\"index_scorer() used with query_encoded=False, but query_embs column present in input. Should you use query_encoded=True?\")\n",
      "/home/stu4/s6/rk1668/miniconda3/envs/ir/lib/python3.11/site-packages/pyterrier_colbert/ranking.py:735: UserWarning: index_scorer() used with query_encoded=False, but query_embs column present in input. Should you use query_encoded=True?\n",
      "  warn(\"index_scorer() used with query_encoded=False, but query_embs column present in input. Should you use query_encoded=True?\")\n",
      "/home/stu4/s6/rk1668/miniconda3/envs/ir/lib/python3.11/site-packages/pyterrier_colbert/ranking.py:735: UserWarning: index_scorer() used with query_encoded=False, but query_embs column present in input. Should you use query_encoded=True?\n",
      "  warn(\"index_scorer() used with query_encoded=False, but query_embs column present in input. Should you use query_encoded=True?\")\n",
      "/home/stu4/s6/rk1668/miniconda3/envs/ir/lib/python3.11/site-packages/pyterrier_colbert/ranking.py:735: UserWarning: index_scorer() used with query_encoded=False, but query_embs column present in input. Should you use query_encoded=True?\n",
      "  warn(\"index_scorer() used with query_encoded=False, but query_embs column present in input. Should you use query_encoded=True?\")\n",
      "/home/stu4/s6/rk1668/miniconda3/envs/ir/lib/python3.11/site-packages/pyterrier_colbert/ranking.py:735: UserWarning: index_scorer() used with query_encoded=False, but query_embs column present in input. Should you use query_encoded=True?\n",
      "  warn(\"index_scorer() used with query_encoded=False, but query_embs column present in input. Should you use query_encoded=True?\")\n",
      "/home/stu4/s6/rk1668/miniconda3/envs/ir/lib/python3.11/site-packages/pyterrier_colbert/ranking.py:735: UserWarning: index_scorer() used with query_encoded=False, but query_embs column present in input. Should you use query_encoded=True?\n",
      "  warn(\"index_scorer() used with query_encoded=False, but query_embs column present in input. Should you use query_encoded=True?\")\n",
      "/home/stu4/s6/rk1668/miniconda3/envs/ir/lib/python3.11/site-packages/pyterrier_colbert/ranking.py:735: UserWarning: index_scorer() used with query_encoded=False, but query_embs column present in input. Should you use query_encoded=True?\n",
      "  warn(\"index_scorer() used with query_encoded=False, but query_embs column present in input. Should you use query_encoded=True?\")\n",
      "/home/stu4/s6/rk1668/miniconda3/envs/ir/lib/python3.11/site-packages/pyterrier_colbert/ranking.py:735: UserWarning: index_scorer() used with query_encoded=False, but query_embs column present in input. Should you use query_encoded=True?\n",
      "  warn(\"index_scorer() used with query_encoded=False, but query_embs column present in input. Should you use query_encoded=True?\")\n",
      "/home/stu4/s6/rk1668/miniconda3/envs/ir/lib/python3.11/site-packages/pyterrier_colbert/ranking.py:735: UserWarning: index_scorer() used with query_encoded=False, but query_embs column present in input. Should you use query_encoded=True?\n",
      "  warn(\"index_scorer() used with query_encoded=False, but query_embs column present in input. Should you use query_encoded=True?\")\n",
      "/home/stu4/s6/rk1668/miniconda3/envs/ir/lib/python3.11/site-packages/pyterrier_colbert/ranking.py:735: UserWarning: index_scorer() used with query_encoded=False, but query_embs column present in input. Should you use query_encoded=True?\n",
      "  warn(\"index_scorer() used with query_encoded=False, but query_embs column present in input. Should you use query_encoded=True?\")\n",
      "/home/stu4/s6/rk1668/miniconda3/envs/ir/lib/python3.11/site-packages/pyterrier_colbert/ranking.py:735: UserWarning: index_scorer() used with query_encoded=False, but query_embs column present in input. Should you use query_encoded=True?\n",
      "  warn(\"index_scorer() used with query_encoded=False, but query_embs column present in input. Should you use query_encoded=True?\")\n",
      "/home/stu4/s6/rk1668/miniconda3/envs/ir/lib/python3.11/site-packages/pyterrier_colbert/ranking.py:735: UserWarning: index_scorer() used with query_encoded=False, but query_embs column present in input. Should you use query_encoded=True?\n",
      "  warn(\"index_scorer() used with query_encoded=False, but query_embs column present in input. Should you use query_encoded=True?\")\n",
      "/home/stu4/s6/rk1668/miniconda3/envs/ir/lib/python3.11/site-packages/pyterrier_colbert/ranking.py:735: UserWarning: index_scorer() used with query_encoded=False, but query_embs column present in input. Should you use query_encoded=True?\n",
      "  warn(\"index_scorer() used with query_encoded=False, but query_embs column present in input. Should you use query_encoded=True?\")\n",
      "/home/stu4/s6/rk1668/miniconda3/envs/ir/lib/python3.11/site-packages/pyterrier_colbert/ranking.py:735: UserWarning: index_scorer() used with query_encoded=False, but query_embs column present in input. Should you use query_encoded=True?\n",
      "  warn(\"index_scorer() used with query_encoded=False, but query_embs column present in input. Should you use query_encoded=True?\")\n",
      "/home/stu4/s6/rk1668/miniconda3/envs/ir/lib/python3.11/site-packages/pyterrier_colbert/ranking.py:735: UserWarning: index_scorer() used with query_encoded=False, but query_embs column present in input. Should you use query_encoded=True?\n",
      "  warn(\"index_scorer() used with query_encoded=False, but query_embs column present in input. Should you use query_encoded=True?\")\n",
      "/home/stu4/s6/rk1668/miniconda3/envs/ir/lib/python3.11/site-packages/pyterrier_colbert/ranking.py:735: UserWarning: index_scorer() used with query_encoded=False, but query_embs column present in input. Should you use query_encoded=True?\n",
      "  warn(\"index_scorer() used with query_encoded=False, but query_embs column present in input. Should you use query_encoded=True?\")\n",
      "/home/stu4/s6/rk1668/miniconda3/envs/ir/lib/python3.11/site-packages/pyterrier_colbert/ranking.py:735: UserWarning: index_scorer() used with query_encoded=False, but query_embs column present in input. Should you use query_encoded=True?\n",
      "  warn(\"index_scorer() used with query_encoded=False, but query_embs column present in input. Should you use query_encoded=True?\")\n",
      "/home/stu4/s6/rk1668/miniconda3/envs/ir/lib/python3.11/site-packages/pyterrier_colbert/ranking.py:735: UserWarning: index_scorer() used with query_encoded=False, but query_embs column present in input. Should you use query_encoded=True?\n",
      "  warn(\"index_scorer() used with query_encoded=False, but query_embs column present in input. Should you use query_encoded=True?\")\n"
     ]
    }
   ],
   "source": [
    "print(len(topics_nfcorpus))\n",
    "res = PRF_ext(topics_nfcorpus)\n",
    "import pandas as pd\n",
    "pd.to_pickle(res,\"./ext/External_BEIR.nfscorpus.embs.pkl\")"
   ]
  },
  {
   "cell_type": "markdown",
   "id": "neural-characterization",
   "metadata": {},
   "source": [
    "# External Dense (ColBERTT-PRF) Expansion"
   ]
  },
  {
   "cell_type": "code",
   "execution_count": 19,
   "id": "swiss-hardware",
   "metadata": {},
   "outputs": [],
   "source": [
    "import pandas as pd\n",
    "res_tgt = pd.read_pickle(\"./tgt/Tgt_BEIR.nfcorpus.embs.pkl\")\n",
    "res_tgtTrans = pt.transformer.SourceTransformer(res_tgt)\n",
    "res_ext = pd.read_pickle(\"./ext/External_BEIR.nfscorpus.embs.pkl\")\n",
    "res_extTrans = pt.transformer.SourceTransformer(res_ext)\n"
   ]
  },
  {
   "cell_type": "code",
   "execution_count": 27,
   "id": "protected-fraction",
   "metadata": {},
   "outputs": [],
   "source": [
    "def transform(res_tgt, res_ext):\n",
    "    import torch\n",
    "    first_row = res_ext.iloc[0]\n",
    "    \n",
    "    # concatenate the external embeddings to the target query embeddings \n",
    "    newemb = torch.cat((res_tgt.iloc[0].query_embs,res_ext.iloc[0].query_embs[32:]),0)\n",
    "\n",
    "    # the weights column defines important of each query embedding\n",
    "    newweights = torch.cat((res_tgt.iloc[0].query_weights, res_ext.iloc[0].query_weights[32:]),0)\n",
    "    newtoks = res_tgt.iloc[0].query_toks+ (res_ext.iloc[0].query_toks)\n",
    "\n",
    "    # generate the revised query dataframe row\n",
    "    rtr = pd.DataFrame([\n",
    "        [first_row.qid, \n",
    "        #  first_row.docno,\n",
    "         first_row.query, \n",
    "         newemb, \n",
    "         newtoks, \n",
    "         newweights]\n",
    "        ],\n",
    "        columns=[\"qid\", \"query\", \"query_embs\", \"query_toks\", \"query_weights\"])\n",
    "    return rtr\n",
    "def mergePRF(res_tgt_input, res_ext_input):\n",
    "    rtrMerge = pd.DataFrame(columns = [\"qid\", \"query\", \"query_embs\", \"query_toks\", \"query_weights\"])\n",
    "    qidlist = res_ext_input.qid.unique()\n",
    "    for qid in qidlist:\n",
    "        res_tgt = res_tgt_input[res_tgt_input[\"qid\"] == qid]\n",
    "        res_ext = res_ext_input[res_ext_input[\"qid\"] == qid]\n",
    "        new_query_df = transform(res_tgt, res_ext)\n",
    "        # rtrMerge = rtrMerge.append(new_query_df)\n",
    "        rtrMerge = pd.concat([rtrMerge, new_query_df])\n",
    "    return rtrMerge"
   ]
  },
  {
   "cell_type": "code",
   "execution_count": 28,
   "id": "standard-prophet",
   "metadata": {},
   "outputs": [
    {
     "data": {
      "text/html": [
       "<div>\n",
       "<style scoped>\n",
       "    .dataframe tbody tr th:only-of-type {\n",
       "        vertical-align: middle;\n",
       "    }\n",
       "\n",
       "    .dataframe tbody tr th {\n",
       "        vertical-align: top;\n",
       "    }\n",
       "\n",
       "    .dataframe thead th {\n",
       "        text-align: right;\n",
       "    }\n",
       "</style>\n",
       "<table border=\"1\" class=\"dataframe\">\n",
       "  <thead>\n",
       "    <tr style=\"text-align: right;\">\n",
       "      <th></th>\n",
       "      <th>qid</th>\n",
       "      <th>query</th>\n",
       "      <th>query_embs</th>\n",
       "      <th>query_toks</th>\n",
       "      <th>query_weights</th>\n",
       "    </tr>\n",
       "  </thead>\n",
       "  <tbody>\n",
       "    <tr>\n",
       "      <th>0</th>\n",
       "      <td>PLAIN-1008</td>\n",
       "      <td>deafness</td>\n",
       "      <td>[[tensor(-0.0543), tensor(0.0030), tensor(0.01...</td>\n",
       "      <td>[disability, disability, io, ##dine, deficienc...</td>\n",
       "      <td>[tensor(1.), tensor(1.), tensor(1.), tensor(1....</td>\n",
       "    </tr>\n",
       "    <tr>\n",
       "      <th>0</th>\n",
       "      <td>PLAIN-1018</td>\n",
       "      <td>dha</td>\n",
       "      <td>[[tensor(-0.0804), tensor(0.1422), tensor(0.09...</td>\n",
       "      <td>[##gal, dh, ##ila, ##xa, ##he, al, growth, ##e...</td>\n",
       "      <td>[tensor(1.), tensor(1.), tensor(1.), tensor(1....</td>\n",
       "    </tr>\n",
       "    <tr>\n",
       "      <th>0</th>\n",
       "      <td>PLAIN-102</td>\n",
       "      <td>stopping heart disease in childhood</td>\n",
       "      <td>[[tensor(0.0092), tensor(0.1306), tensor(0.048...</td>\n",
       "      <td>[goals, japanese, ##per, childhood, ##8, gluco...</td>\n",
       "      <td>[tensor(1.), tensor(1.), tensor(1.), tensor(1....</td>\n",
       "    </tr>\n",
       "    <tr>\n",
       "      <th>0</th>\n",
       "      <td>PLAIN-1028</td>\n",
       "      <td>dietary scoring</td>\n",
       "      <td>[[tensor(-0.0139), tensor(0.0758), tensor(0.06...</td>\n",
       "      <td>[##ibility, residues, ##static, 300, ed, nuts,...</td>\n",
       "      <td>[tensor(1.), tensor(1.), tensor(1.), tensor(1....</td>\n",
       "    </tr>\n",
       "    <tr>\n",
       "      <th>0</th>\n",
       "      <td>PLAIN-1039</td>\n",
       "      <td>domoic acid</td>\n",
       "      <td>[[tensor(0.1494), tensor(0.0147), tensor(0.119...</td>\n",
       "      <td>[dom, confusion, ##oic, shell, marine, ##fish,...</td>\n",
       "      <td>[tensor(1.), tensor(1.), tensor(1.), tensor(1....</td>\n",
       "    </tr>\n",
       "  </tbody>\n",
       "</table>\n",
       "</div>"
      ],
      "text/plain": [
       "          qid                                query  \\\n",
       "0  PLAIN-1008                             deafness   \n",
       "0  PLAIN-1018                                  dha   \n",
       "0   PLAIN-102  stopping heart disease in childhood   \n",
       "0  PLAIN-1028                      dietary scoring   \n",
       "0  PLAIN-1039                          domoic acid   \n",
       "\n",
       "                                          query_embs  \\\n",
       "0  [[tensor(-0.0543), tensor(0.0030), tensor(0.01...   \n",
       "0  [[tensor(-0.0804), tensor(0.1422), tensor(0.09...   \n",
       "0  [[tensor(0.0092), tensor(0.1306), tensor(0.048...   \n",
       "0  [[tensor(-0.0139), tensor(0.0758), tensor(0.06...   \n",
       "0  [[tensor(0.1494), tensor(0.0147), tensor(0.119...   \n",
       "\n",
       "                                          query_toks  \\\n",
       "0  [disability, disability, io, ##dine, deficienc...   \n",
       "0  [##gal, dh, ##ila, ##xa, ##he, al, growth, ##e...   \n",
       "0  [goals, japanese, ##per, childhood, ##8, gluco...   \n",
       "0  [##ibility, residues, ##static, 300, ed, nuts,...   \n",
       "0  [dom, confusion, ##oic, shell, marine, ##fish,...   \n",
       "\n",
       "                                       query_weights  \n",
       "0  [tensor(1.), tensor(1.), tensor(1.), tensor(1....  \n",
       "0  [tensor(1.), tensor(1.), tensor(1.), tensor(1....  \n",
       "0  [tensor(1.), tensor(1.), tensor(1.), tensor(1....  \n",
       "0  [tensor(1.), tensor(1.), tensor(1.), tensor(1....  \n",
       "0  [tensor(1.), tensor(1.), tensor(1.), tensor(1....  "
      ]
     },
     "execution_count": 28,
     "metadata": {},
     "output_type": "execute_result"
    }
   ],
   "source": [
    "resMerge = mergePRF(res_tgt, res_ext) \n",
    "resMerge.head()"
   ]
  },
  {
   "cell_type": "code",
   "execution_count": 29,
   "id": "metallic-audience",
   "metadata": {},
   "outputs": [],
   "source": [
    "#resMerge = pd.read_csv(path_resMErge)\n",
    "MergeTrans = pt.transformer.SourceTransformer(resMerge)\n",
    "pipeCE2_ranker = (MergeTrans \n",
    "                  >> pytcolbertTgt.set_retrieve(query_encoded=True) \n",
    "                  >> (pytcolbertTgt.index_scorer(query_encoded=True, add_ranks=True, batch_size=5000)\n",
    "                  >> pt.text.max_passage() % 1000))"
   ]
  },
  {
   "cell_type": "code",
   "execution_count": 30,
   "id": "liable-asbestos",
   "metadata": {},
   "outputs": [
    {
     "name": "stdout",
     "output_type": "stream",
     "text": [
      "323\n"
     ]
    },
    {
     "name": "stderr",
     "output_type": "stream",
     "text": [
      "/tmp/ipykernel_558074/347938054.py:4: DeprecationWarning: Call to deprecated function (or staticmethod) evaluate. (Use pt.Evaluate instead) -- Deprecated since version 0.9.\n",
      "  evalMeasuresDict = pt.Utils.evaluate(res,qrels_nfcorpus,metrics=[\"ndcg_cut_10\",\"ndcg_cut_20\",\"ndcg_cut_1000\"])\n"
     ]
    },
    {
     "data": {
      "text/plain": [
       "{'ndcg_cut_10': 0.3213347393142535,\n",
       " 'ndcg_cut_20': 0.2984732935720202,\n",
       " 'ndcg_cut_1000': 0.37075410546368714}"
      ]
     },
     "execution_count": 30,
     "metadata": {},
     "output_type": "execute_result"
    }
   ],
   "source": [
    "\n",
    "print(len(topics_nfcorpus))\n",
    "res = pd.concat([resPart for resPart in pipeCE2_ranker.transform_gen(topics_nfcorpus, batch_size=100)])\n",
    "pt.io.write_results(res, \"./results/CE.nfcorpus.res.gz\")\n",
    "evalMeasuresDict = pt.Utils.evaluate(res,qrels_nfcorpus,metrics=[\"ndcg_cut_10\",\"ndcg_cut_20\",\"ndcg_cut_1000\"])\n",
    "evalMeasuresDict"
   ]
  },
  {
   "cell_type": "code",
   "execution_count": 33,
   "id": "according-armenia",
   "metadata": {},
   "outputs": [
    {
     "data": {
      "text/html": [
       "<div>\n",
       "<style scoped>\n",
       "    .dataframe tbody tr th:only-of-type {\n",
       "        vertical-align: middle;\n",
       "    }\n",
       "\n",
       "    .dataframe tbody tr th {\n",
       "        vertical-align: top;\n",
       "    }\n",
       "\n",
       "    .dataframe thead th {\n",
       "        text-align: right;\n",
       "    }\n",
       "</style>\n",
       "<table border=\"1\" class=\"dataframe\">\n",
       "  <thead>\n",
       "    <tr style=\"text-align: right;\">\n",
       "      <th></th>\n",
       "      <th>name</th>\n",
       "      <th>ndcg_cut_10</th>\n",
       "    </tr>\n",
       "  </thead>\n",
       "  <tbody>\n",
       "    <tr>\n",
       "      <th>0</th>\n",
       "      <td>Compose(Compose(Transformer(), pt.apply.generi...</td>\n",
       "      <td>0.321335</td>\n",
       "    </tr>\n",
       "  </tbody>\n",
       "</table>\n",
       "</div>"
      ],
      "text/plain": [
       "                                                name  ndcg_cut_10\n",
       "0  Compose(Compose(Transformer(), pt.apply.generi...     0.321335"
      ]
     },
     "execution_count": 33,
     "metadata": {},
     "output_type": "execute_result"
    }
   ],
   "source": [
    "bm25 = pt.BatchRetrieve(\"\", wmodel=\"BM25\")\n",
    "\n",
    "pt.Experiment(\n",
    "    [pipeCE2_ranker],\n",
    "    topics_nfcorpus, \n",
    "    qrels_nfcorpus,\n",
    "    [\"ndcg_cut_10\"]\n",
    ")"
   ]
  },
  {
   "cell_type": "code",
   "execution_count": null,
   "id": "9569a891",
   "metadata": {},
   "outputs": [],
   "source": []
  }
 ],
 "metadata": {
  "kernelspec": {
   "display_name": "Python 3",
   "language": "python",
   "name": "python3"
  },
  "language_info": {
   "codemirror_mode": {
    "name": "ipython",
    "version": 3
   },
   "file_extension": ".py",
   "mimetype": "text/x-python",
   "name": "python",
   "nbconvert_exporter": "python",
   "pygments_lexer": "ipython3",
   "version": "3.11.8"
  }
 },
 "nbformat": 4,
 "nbformat_minor": 5
}
